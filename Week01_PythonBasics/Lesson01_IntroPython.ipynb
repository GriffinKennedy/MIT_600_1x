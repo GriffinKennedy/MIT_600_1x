{
 "cells": [
  {
   "cell_type": "markdown",
   "metadata": {},
   "source": [
    "## <center>MIT 6.00.1x\n",
    "### <center>Lesson 1: Introduction to Python\n",
    "#### <center>**Author: Griffin Kennedy**\n",
    "\n",
    "\n",
    "\n",
    "In this course, we will cover topics including (but not limited to)  data structures, iteration and recursion, abstraction, organize and modulararize, algorithms, and complexity. \n",
    "\n",
    "**What we will learn**\n",
    "- learn computational modes of thinking\n",
    "- master the art of computational problem solving\n",
    "- make computers do what you want them to do\n",
    "\n",
    "\n",
    "**Fundamentally, what does a computer do?**\n",
    "- performs calculations (a billion per second!)\n",
    "- stores memory\n",
    "    \n",
    "> Is a billion opperations a second fast?\n",
    "- This is debatable. There are $10^{123}$ possible chess games ($10^{80}$ is the number of atoms in the observable universe). If you want to find your best move in the chess game you're going to have to be more clever then the simple opperations the computer is provided with. \n",
    " \n",
    "There are limits to the computers ability  think of accurate weather predictions of cracking encryptying schemes. But this course is about finding work arounds and being clever about your solutions to these problems.\n",
    "\n",
    "\n",
    "If we want a computer to compute something then we must ask: What is the knowledge the computer needs to solve the problem?\n",
    "\n",
    "> **Types of knowledge** \n",
    "- Declarative Knowledge \n",
    "    - statements of fact\n",
    "    - \"There is candy under the desk\"\n",
    "\n",
    "\n",
    "> - Imperative Knowledge\n",
    "    - A recipe\n",
    "        - sequence of simple steps\n",
    "        - flow of control process what specifies when each step is executed\n",
    "        - a means of determining when to stop.\n",
    "            \n",
    "\n",
    "So how do I take the description of a process and write it in such a way that I can load it into the computer and the computer can solve my problem?\n",
    "\n",
    "> Alan Turing showed there are 6 operations:\n",
    "- move left\n",
    "- move right\n",
    "- scan\n",
    "- read\n",
    "- write\n",
    "- do nothing\n",
    "\n",
    ">And with these six primitives you can compute anything that is computable\n",
    "\n",
    "We are not going to write code with these primitives. That is why programming languages are made, to simplify this process. The **Turing Complete Property**, a fundamental to computer science, states:  **Anything computatble in one language is computable in another language**.\n",
    "\n",
    "**Attributes of a programming Language**\n",
    "- a set of primitive opperators\n",
    "- a means of combination to form new expressions\n",
    "- a means of abstraction\n",
    "    - abstraction: a way of taking a complex expression and treating it as a primitive.\n",
    "    \n",
    "**Where could things go wrong?**\n",
    "- syntactic errors (grammar mistakes)\n",
    "    - common and easily caught\n",
    "        - The IDE usually catches these\n",
    "- semantic errors\n",
    "- No semantic error but different then what was intended\n",
    "    - could cause program to crash\n",
    "    - program runs forever\n",
    "    - program gives a wrong answer\n",
    "    \n",
    "**Our Goal**\n",
    "- learn the syntax of Python\n",
    "- learn how to use those elements and translate them into 'recipes'\n",
    "- lean code snippets to help solve more complex problems.\n",
    "\n",
    "**What are the fundamental primitives that represent data?**\n",
    "\n",
    "Objects have a type that defines the kinds of things programs can do to them. The type tells programs whether they can act on it or not. \n",
    "- if a program is expecting a number and I give it string an error will occur. So type is very valuable.\n",
    "\n",
    "Objects are:\n",
    "- scalar (cannot be subdivided)\n",
    "    - integer (ints)\n",
    "    - floats (real numbers)\n",
    "    - bool (boolean, a logical opperator)\n",
    "    - NoneType (none)\n",
    "- non-scalar"
   ]
  },
  {
   "cell_type": "code",
   "execution_count": 47,
   "metadata": {},
   "outputs": [
    {
     "data": {
      "text/plain": [
       "int"
      ]
     },
     "execution_count": 47,
     "metadata": {},
     "output_type": "execute_result"
    }
   ],
   "source": [
    "type(-34)"
   ]
  },
  {
   "cell_type": "code",
   "execution_count": 48,
   "metadata": {},
   "outputs": [
    {
     "data": {
      "text/plain": [
       "bool"
      ]
     },
     "execution_count": 48,
     "metadata": {},
     "output_type": "execute_result"
    }
   ],
   "source": [
    "type(True)"
   ]
  },
  {
   "cell_type": "code",
   "execution_count": 49,
   "metadata": {},
   "outputs": [
    {
     "data": {
      "text/plain": [
       "float"
      ]
     },
     "execution_count": 49,
     "metadata": {},
     "output_type": "execute_result"
    }
   ],
   "source": [
    "type(3.14)"
   ]
  },
  {
   "cell_type": "markdown",
   "metadata": {},
   "source": [
    "Sometimes you want to change types. This is called **Casting** and is often done with numbers."
   ]
  },
  {
   "cell_type": "code",
   "execution_count": 50,
   "metadata": {},
   "outputs": [
    {
     "data": {
      "text/plain": [
       "5.0"
      ]
     },
     "execution_count": 50,
     "metadata": {},
     "output_type": "execute_result"
    }
   ],
   "source": [
    "float(5) #casting an int to a float"
   ]
  },
  {
   "cell_type": "code",
   "execution_count": 51,
   "metadata": {},
   "outputs": [
    {
     "data": {
      "text/plain": [
       "3"
      ]
     },
     "execution_count": 51,
     "metadata": {},
     "output_type": "execute_result"
    }
   ],
   "source": [
    "int(3.9) #casting a float to an int"
   ]
  },
  {
   "cell_type": "markdown",
   "metadata": {},
   "source": [
    "Notice how when a float is converted to an integer the number is simply truncated.\n",
    "\n",
    "**Expressions**\n",
    "- an expression has a value, which has a type.\n",
    "- syntax for a simple expression\n",
    "    - object-operatior-object"
   ]
  },
  {
   "cell_type": "code",
   "execution_count": 52,
   "metadata": {},
   "outputs": [
    {
     "name": "stdout",
     "output_type": "stream",
     "text": [
      "2.6\n",
      "2\n",
      "3\n"
     ]
    }
   ],
   "source": [
    "#basic expressions\n",
    "\n",
    "print(13/5) #returns float\n",
    "print(13//5) #returns int\n",
    "print(13%5) # return remainder"
   ]
  },
  {
   "cell_type": "markdown",
   "metadata": {},
   "source": [
    "Have you notices that with print statement there isn't an 'Out[#]:'\n",
    "- what type do you think a print statement is?"
   ]
  },
  {
   "cell_type": "code",
   "execution_count": 53,
   "metadata": {},
   "outputs": [
    {
     "name": "stdout",
     "output_type": "stream",
     "text": [
      "1\n"
     ]
    },
    {
     "data": {
      "text/plain": [
       "NoneType"
      ]
     },
     "execution_count": 53,
     "metadata": {},
     "output_type": "execute_result"
    }
   ],
   "source": [
    "type(print(3-2))"
   ]
  },
  {
   "cell_type": "markdown",
   "metadata": {},
   "source": [
    "When using multiple types in an expression the 'higher level' or more complex type is what is returned. "
   ]
  },
  {
   "cell_type": "code",
   "execution_count": 54,
   "metadata": {},
   "outputs": [
    {
     "data": {
      "text/plain": [
       "8.0"
      ]
     },
     "execution_count": 54,
     "metadata": {},
     "output_type": "execute_result"
    }
   ],
   "source": [
    "5.0 + 3 #float + int = float"
   ]
  },
  {
   "cell_type": "markdown",
   "metadata": {},
   "source": [
    "We are now ready for abstraction. Abstraction allows us to give names to things. So I can refer to a calue just by using its name.\n",
    "- In python we can use the '=' to assign a name."
   ]
  },
  {
   "cell_type": "code",
   "execution_count": 55,
   "metadata": {},
   "outputs": [
    {
     "name": "stdout",
     "output_type": "stream",
     "text": [
      "15.205295600000001\n"
     ]
    }
   ],
   "source": [
    "pi = 3.14159\n",
    "radius = 2.2\n",
    "area = pi*radius**2\n",
    "print(area)"
   ]
  },
  {
   "cell_type": "markdown",
   "metadata": {},
   "source": [
    "What are my comparison opperators?\n",
    "- well they are what you would believe them to be from math."
   ]
  },
  {
   "cell_type": "code",
   "execution_count": 56,
   "metadata": {},
   "outputs": [
    {
     "data": {
      "text/plain": [
       "False"
      ]
     },
     "execution_count": 56,
     "metadata": {},
     "output_type": "execute_result"
    }
   ],
   "source": [
    "2 < 1 #is 2 less than 1"
   ]
  },
  {
   "cell_type": "code",
   "execution_count": 57,
   "metadata": {},
   "outputs": [
    {
     "data": {
      "text/plain": [
       "True"
      ]
     },
     "execution_count": 57,
     "metadata": {},
     "output_type": "execute_result"
    }
   ],
   "source": [
    "2 != 3 # 2 is not equal to 3"
   ]
  },
  {
   "cell_type": "markdown",
   "metadata": {},
   "source": [
    "WE can also create a brancing program by combining a logical opperator such as \n",
    "- and\n",
    "- or\n",
    "- not x"
   ]
  },
  {
   "cell_type": "code",
   "execution_count": 1,
   "metadata": {},
   "outputs": [
    {
     "name": "stdout",
     "output_type": "stream",
     "text": [
      "Enter an integer: 7\n",
      "\n",
      "Odd\n",
      "Done with conditional\n"
     ]
    }
   ],
   "source": [
    "x = int(input('Enter an integer: '))\n",
    "if x%2 == 0:\n",
    "    print('') #This gives blank line\n",
    "    print('Even')\n",
    "else:\n",
    "    print('\\nOdd') #'\\n' also gives a blank line \n",
    "print('Done with conditional')"
   ]
  },
  {
   "cell_type": "code",
   "execution_count": null,
   "metadata": {
    "collapsed": true
   },
   "outputs": [],
   "source": [
    "False or False"
   ]
  },
  {
   "cell_type": "markdown",
   "metadata": {},
   "source": [
    "Guess the output! \n",
    "True or False or error"
   ]
  },
  {
   "cell_type": "code",
   "execution_count": null,
   "metadata": {
    "collapsed": true
   },
   "outputs": [],
   "source": [
    "4 > +4"
   ]
  },
  {
   "cell_type": "code",
   "execution_count": null,
   "metadata": {
    "collapsed": true
   },
   "outputs": [],
   "source": [
    "False or False"
   ]
  },
  {
   "cell_type": "code",
   "execution_count": null,
   "metadata": {
    "collapsed": true
   },
   "outputs": [],
   "source": [
    "4 > 5 and 3 < 4 or 9 > 8"
   ]
  },
  {
   "cell_type": "code",
   "execution_count": null,
   "metadata": {
    "collapsed": true
   },
   "outputs": [],
   "source": [
    "4 > 5 and (3 < 4 or 9 > 8)"
   ]
  },
  {
   "cell_type": "code",
   "execution_count": null,
   "metadata": {
    "collapsed": true
   },
   "outputs": [],
   "source": [
    "round(2.6)"
   ]
  }
 ],
 "metadata": {
  "kernelspec": {
   "display_name": "Python 3",
   "language": "python",
   "name": "python3"
  },
  "language_info": {
   "codemirror_mode": {
    "name": "ipython",
    "version": 3
   },
   "file_extension": ".py",
   "mimetype": "text/x-python",
   "name": "python",
   "nbconvert_exporter": "python",
   "pygments_lexer": "ipython3",
   "version": "3.6.1"
  }
 },
 "nbformat": 4,
 "nbformat_minor": 2
}
