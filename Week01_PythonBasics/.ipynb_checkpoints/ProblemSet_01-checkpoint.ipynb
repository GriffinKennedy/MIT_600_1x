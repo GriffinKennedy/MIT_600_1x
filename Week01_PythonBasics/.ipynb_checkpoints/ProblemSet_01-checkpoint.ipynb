{
 "cells": [
  {
   "cell_type": "markdown",
   "metadata": {},
   "source": [
    "## <center> MIT 6.00x\n",
    "### <center> Problem Set 01\n",
    "### <center> Author: Griffin Kennedy"
   ]
  },
  {
   "cell_type": "markdown",
   "metadata": {},
   "source": [
    "### Problem 01\n",
    "\n",
    "> Write a program that counts up the number of vowels contained in the string s. Valid vowels are: 'a', 'e', 'i', 'o', and 'u'. For example, if s = 'azcbobobegghakl', your program should print: \"Number of vowels: 5\"\n",
    "\n",
    "### Psudocode 01\n",
    "\n",
    "> **What do I need?**\n",
    "> - Define a str\n",
    "- Have a loop that goes for the length of the string\n",
    "- Count the vowels\n",
    "- Print statement\n",
    "\n",
    ">> **Psudocode**\n",
    "> - my_str = 'str'\n",
    "- vowel_count = 0\n",
    "- for letter in my_str :\n",
    "    - if (letter = vowel) :\n",
    "        - vowel_count += 1\n",
    "- print(\"Number of vowels: \" + str(vowel_count))"
   ]
  },
  {
   "cell_type": "code",
   "execution_count": 8,
   "metadata": {},
   "outputs": [
    {
     "name": "stdout",
     "output_type": "stream",
     "text": [
      "Number of vowels: 4\n"
     ]
    }
   ],
   "source": [
    "'''First Attempt'''\n",
    "\n",
    "my_str = 'griffinkennedy'\n",
    "vowel_count = 0\n",
    "for letter in my_str:\n",
    "    if (letter == 'a' or letter == 'e' \n",
    "        or letter == 'i' or letter == 'o' or letter == 'u'):\n",
    "        vowel_count += 1\n",
    "print(\"Number of vowels: \" + str(vowel_count))"
   ]
  },
  {
   "cell_type": "markdown",
   "metadata": {},
   "source": [
    "### Problem 02\n",
    "> Write a program that prints the number of times the string 'bob' occurs in s. For example, if s = 'azcbobobegghakl', then your program should print: 'Number of times bob occurs is: 2'\n",
    "\n",
    "### Psudocode 02\n",
    "> **What do I need?**\n",
    "- define a str\n",
    "- define count_bob\n",
    "- way to increment the index\n",
    "- for loop through my_str checking three at a time\n",
    "    -  indexes 012, 123, 234, etc\n",
    "    \n",
    "> **Psudocode** \n",
    "- my_str = 'string'\n",
    "- count_bob = 0\n",
    "- n = 0\n",
    "- for mystr[n : n +3] in my_str:\n",
    "   - if (letters[n : n+3] == 'bob'):\n",
    "       - count_bob += 1\n",
    "   - n += 1\n",
    "   - if (n == len(my_str) - 2):\n",
    "       - break\n",
    "- print('Number of times bob occurs is: ' + str(count_bob))"
   ]
  },
  {
   "cell_type": "code",
   "execution_count": 11,
   "metadata": {},
   "outputs": [
    {
     "ename": "TypeError",
     "evalue": "'str' object does not support item assignment",
     "output_type": "error",
     "traceback": [
      "\u001b[0;31m---------------------------------------------------------------------------\u001b[0m",
      "\u001b[0;31mTypeError\u001b[0m                                 Traceback (most recent call last)",
      "\u001b[0;32m<ipython-input-11-62f9b8becf98>\u001b[0m in \u001b[0;36m<module>\u001b[0;34m()\u001b[0m\n\u001b[1;32m      4\u001b[0m \u001b[0mcount_bob\u001b[0m \u001b[0;34m=\u001b[0m \u001b[0;36m0\u001b[0m\u001b[0;34m\u001b[0m\u001b[0m\n\u001b[1;32m      5\u001b[0m \u001b[0mn\u001b[0m \u001b[0;34m=\u001b[0m \u001b[0;36m0\u001b[0m\u001b[0;34m\u001b[0m\u001b[0m\n\u001b[0;32m----> 6\u001b[0;31m \u001b[0;32mfor\u001b[0m \u001b[0mmy_str\u001b[0m\u001b[0;34m[\u001b[0m\u001b[0mn\u001b[0m \u001b[0;34m:\u001b[0m \u001b[0mn\u001b[0m \u001b[0;34m+\u001b[0m \u001b[0;36m3\u001b[0m\u001b[0;34m]\u001b[0m \u001b[0;32min\u001b[0m \u001b[0mmy_str\u001b[0m\u001b[0;34m:\u001b[0m\u001b[0;34m\u001b[0m\u001b[0m\n\u001b[0m\u001b[1;32m      7\u001b[0m     \u001b[0;32mif\u001b[0m \u001b[0;34m(\u001b[0m\u001b[0mletters\u001b[0m\u001b[0;34m[\u001b[0m\u001b[0mn\u001b[0m \u001b[0;34m:\u001b[0m \u001b[0mn\u001b[0m \u001b[0;34m+\u001b[0m \u001b[0;36m3\u001b[0m\u001b[0;34m]\u001b[0m \u001b[0;34m==\u001b[0m \u001b[0;34m'bob'\u001b[0m\u001b[0;34m)\u001b[0m\u001b[0;34m:\u001b[0m\u001b[0;34m\u001b[0m\u001b[0m\n\u001b[1;32m      8\u001b[0m         \u001b[0mcount_bob\u001b[0m \u001b[0;34m+=\u001b[0m \u001b[0;36m1\u001b[0m\u001b[0;34m\u001b[0m\u001b[0m\n",
      "\u001b[0;31mTypeError\u001b[0m: 'str' object does not support item assignment"
     ]
    }
   ],
   "source": [
    "'''First Attempt'''\n",
    "\n",
    "my_string = 'bobbobbobob'\n",
    "count_bob = 0\n",
    "n = 0\n",
    "for my_str[n : n + 3] in my_str:\n",
    "    if (letters[n : n + 3] == 'bob'):\n",
    "        count_bob += 1\n",
    "    n += 1\n",
    "    if (n == len(my_str) - 2 ):\n",
    "        break\n",
    "print('Number of times bob occurs is: ' + str(count_bob))"
   ]
  },
  {
   "cell_type": "markdown",
   "metadata": {},
   "source": [
    "> ### Error Handling\n",
    "\n",
    "> The code for our 'if' statements looks to be correct. Let's focus on changing the line with the 'for loop'. As we break out of the loop in the end let's switch to a simple 'while loop'."
   ]
  },
  {
   "cell_type": "code",
   "execution_count": 13,
   "metadata": {},
   "outputs": [
    {
     "name": "stdout",
     "output_type": "stream",
     "text": [
      "Number of times bob occurs is: 4\n"
     ]
    }
   ],
   "source": [
    "'''Second Attempt'''\n",
    "\n",
    "my_string = 'bobbobbobob'\n",
    "count_bob = 0\n",
    "n = 0\n",
    "while (n > -1): # Change loop to a while loop\n",
    "    if (my_string[n : n + 3] == 'bob'):\n",
    "        count_bob += 1\n",
    "    n += 1\n",
    "    if (n == len(my_str) - 2 ):\n",
    "        break\n",
    "print('Number of times bob occurs is: ' + str(count_bob))"
   ]
  },
  {
   "cell_type": "markdown",
   "metadata": {},
   "source": [
    "### Problem 03\n",
    "\n",
    "> Write a program that prints the longest substring of s in which the letters occur in alphabetical order. For example, if s = 'azcbobobegghakl', then your program should print:\n",
    "- Longest substring in alphabetical order is: beggh\n",
    "\n",
    "\n",
    "> In the case of ties, print the first substring. For example, if s = 'abcbcd', then your program should print:\n",
    "- Longest substring in alphabetical order is: abc\n",
    "\n",
    "> **What do I need?**\n",
    "\n",
    "> - define a string\n",
    "- loop through the string to return the longest portion in alphabetical order\n",
    "- if there is a tie return the one that happened first\n",
    "- I'll need to loop through the string.\n",
    "- I can compare check alphebetical order with a boolean.\n",
    "- I can keep the longest one and replace it if a longer one comes along.\n",
    "- There will be a nested loop\n",
    "\n",
    "> **Psudocode**\n",
    "\n",
    "> - my_str = \"alphabetical\"\n",
    "  - longest_str = ''\n",
    "  - n = 0\n",
    "  - for letters in my_str: #set up initial loop for each letter in my_str\n",
    "      - m = n\n",
    "      - new_str = my_str[m] #define a new_str to compare to longest_str\n",
    "      - while (n < -1): \n",
    "          - if my_str[m] <= my_str[m+1] == TRUE:\n",
    "              - new_str = new_str + my_str[m+1]\n",
    "              - m += 1\n",
    "          - else: break\n",
    "      - if len(longest_str) < len(new_str):\n",
    "          - longest_str = new_str\n",
    "      - n += 1     \n",
    "  - print('Longest substring in alphabetical order is: ' + str(longest_str))"
   ]
  },
  {
   "cell_type": "code",
   "execution_count": 64,
   "metadata": {},
   "outputs": [
    {
     "ename": "IndexError",
     "evalue": "string index out of range",
     "output_type": "error",
     "traceback": [
      "\u001b[0;31m---------------------------------------------------------------------------\u001b[0m",
      "\u001b[0;31mIndexError\u001b[0m                                Traceback (most recent call last)",
      "\u001b[0;32m<ipython-input-64-6411c3b533a0>\u001b[0m in \u001b[0;36m<module>\u001b[0;34m()\u001b[0m\n\u001b[1;32m      6\u001b[0m     \u001b[0mnew_str\u001b[0m \u001b[0;34m=\u001b[0m \u001b[0mmy_str\u001b[0m\u001b[0;34m[\u001b[0m\u001b[0mm\u001b[0m\u001b[0;34m]\u001b[0m\u001b[0;34m\u001b[0m\u001b[0m\n\u001b[1;32m      7\u001b[0m     \u001b[0;32mwhile\u001b[0m \u001b[0;34m(\u001b[0m\u001b[0mm\u001b[0m \u001b[0;34m>\u001b[0m \u001b[0;34m-\u001b[0m\u001b[0;36m1\u001b[0m\u001b[0;34m)\u001b[0m\u001b[0;34m:\u001b[0m\u001b[0;34m\u001b[0m\u001b[0m\n\u001b[0;32m----> 8\u001b[0;31m         \u001b[0;32mif\u001b[0m \u001b[0;34m(\u001b[0m\u001b[0mmy_str\u001b[0m\u001b[0;34m[\u001b[0m\u001b[0mm\u001b[0m\u001b[0;34m]\u001b[0m \u001b[0;34m<=\u001b[0m \u001b[0mmy_str\u001b[0m\u001b[0;34m[\u001b[0m\u001b[0mm\u001b[0m\u001b[0;34m+\u001b[0m\u001b[0;36m1\u001b[0m\u001b[0;34m]\u001b[0m \u001b[0;34m==\u001b[0m \u001b[0;32mTrue\u001b[0m\u001b[0;34m)\u001b[0m\u001b[0;34m:\u001b[0m\u001b[0;34m\u001b[0m\u001b[0m\n\u001b[0m\u001b[1;32m      9\u001b[0m             \u001b[0mnew_str\u001b[0m \u001b[0;34m=\u001b[0m \u001b[0mnew_str\u001b[0m \u001b[0;34m+\u001b[0m \u001b[0mmy_str\u001b[0m\u001b[0;34m[\u001b[0m\u001b[0mm\u001b[0m\u001b[0;34m+\u001b[0m\u001b[0;36m1\u001b[0m\u001b[0;34m]\u001b[0m\u001b[0;34m\u001b[0m\u001b[0m\n\u001b[1;32m     10\u001b[0m             \u001b[0mm\u001b[0m \u001b[0;34m+=\u001b[0m \u001b[0;36m1\u001b[0m\u001b[0;34m\u001b[0m\u001b[0m\n",
      "\u001b[0;31mIndexError\u001b[0m: string index out of range"
     ]
    }
   ],
   "source": [
    "my_str = 'zphabetical'\n",
    "longest_str = ''\n",
    "n = 0\n",
    "for n in range(len(my_str)):\n",
    "    m = n\n",
    "    new_str = my_str[m]\n",
    "    while (m > -1):\n",
    "        if (my_str[m] <= my_str[m+1] == True):\n",
    "            new_str = new_str + my_str[m+1]\n",
    "            m += 1\n",
    "            if (m == len(my_str)):\n",
    "                break\n",
    "        else: \n",
    "            break\n",
    "    if (len(longest_str) < len(new_str)):\n",
    "        longest_str = new_str\n",
    "    n += 1\n",
    "print('Longest substring in alphabetical order is: ' + str(longest_str))"
   ]
  },
  {
   "cell_type": "markdown",
   "metadata": {},
   "source": [
    "> From Python Tutor I was able to see that my indexes were going out of range from the 'm+1' so I subtracted 1 after 'len(my_str)'. Also my if statement wasn't executing so I changed my while loop statement to the if statement."
   ]
  },
  {
   "cell_type": "code",
   "execution_count": 18,
   "metadata": {},
   "outputs": [
    {
     "name": "stdout",
     "output_type": "stream",
     "text": [
      "Longest substring in alphabetical order is: ffin\n"
     ]
    }
   ],
   "source": [
    "'''Second Attempt'''\n",
    "\n",
    "my_str = 'griffin'\n",
    "longest_str = ''\n",
    "n = 0\n",
    "for n in range(len(my_str)-1):\n",
    "    m = n\n",
    "    new_str = my_str[m]\n",
    "    while(my_str[m] <= my_str[m+1]):\n",
    "        new_str = new_str + my_str[m+1]\n",
    "        m += 1\n",
    "        if (m == len(my_str)-1):\n",
    "            break\n",
    "    if (len(longest_str) < len(new_str)):\n",
    "        longest_str = new_str\n",
    "    n += 1\n",
    "print('Longest substring in alphabetical order is: ' + str(longest_str))"
   ]
  },
  {
   "cell_type": "code",
   "execution_count": null,
   "metadata": {
    "collapsed": true
   },
   "outputs": [],
   "source": []
  }
 ],
 "metadata": {
  "kernelspec": {
   "display_name": "Python 3",
   "language": "python",
   "name": "python3"
  },
  "language_info": {
   "codemirror_mode": {
    "name": "ipython",
    "version": 3
   },
   "file_extension": ".py",
   "mimetype": "text/x-python",
   "name": "python",
   "nbconvert_exporter": "python",
   "pygments_lexer": "ipython3",
   "version": "3.6.2"
  }
 },
 "nbformat": 4,
 "nbformat_minor": 2
}
