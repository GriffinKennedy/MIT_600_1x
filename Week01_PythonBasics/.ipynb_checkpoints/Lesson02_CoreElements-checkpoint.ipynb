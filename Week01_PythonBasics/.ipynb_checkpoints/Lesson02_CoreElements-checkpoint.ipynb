{
 "cells": [
  {
   "cell_type": "markdown",
   "metadata": {},
   "source": [
    "## <center>MIT 6.00.1x\n",
    "### <center>Lesson 2: Core Elements of Programs\n",
    "#### <center>**Author: Griffin Kennedy**\n",
    "\n",
    "\n",
    "In this lesson we will continue to talk about types. We will focus on topics including but not limited to:\n",
    "- strings \n",
    "- how operations work on strings. \n",
    "- indexing\n",
    "- slicing\n",
    "- input code\n",
    "- output code\n",
    "- print statements\n",
    "- While loops \n",
    "- For Loops\n",
    "- range\n",
    "- break statements"
   ]
  },
  {
   "cell_type": "markdown",
   "metadata": {},
   "source": [
    "## Strings\n",
    "\n",
    ">**What are strings?**\n",
    "Strings are an **immutable** sequences of charectors they are always wrapped in quotes (unless printed out), and different opperations can be performed on strings such as:\n",
    "> - concatination\n",
    "- length of a string (includes spaces)\n",
    "- indexing (finding the nth element of the string)\n",
    "- slicing; read as [m,n)\n",
    "\n",
    "> ## Basic string opperations\n",
    "> Try to predict the output pefore you execute!"
   ]
  },
  {
   "cell_type": "code",
   "execution_count": 67,
   "metadata": {},
   "outputs": [
    {
     "data": {
      "text/plain": [
       "str"
      ]
     },
     "execution_count": 67,
     "metadata": {},
     "output_type": "execute_result"
    }
   ],
   "source": [
    "hi = 'Hello there'\n",
    "type(hi)"
   ]
  },
  {
   "cell_type": "code",
   "execution_count": 68,
   "metadata": {},
   "outputs": [
    {
     "data": {
      "text/plain": [
       "'Hello there'"
      ]
     },
     "execution_count": 68,
     "metadata": {},
     "output_type": "execute_result"
    }
   ],
   "source": [
    "hi"
   ]
  },
  {
   "cell_type": "code",
   "execution_count": 69,
   "metadata": {},
   "outputs": [
    {
     "name": "stdout",
     "output_type": "stream",
     "text": [
      "Hello there Griffin\n"
     ]
    }
   ],
   "source": [
    "name = 'Griffin'\n",
    "greet = hi + \" \" + name #concatination\n",
    "print (greet) #when you print a string there are no quotation marks"
   ]
  },
  {
   "cell_type": "code",
   "execution_count": 70,
   "metadata": {},
   "outputs": [
    {
     "data": {
      "text/plain": [
       "'GriffinGriffinGriffin'"
      ]
     },
     "execution_count": 70,
     "metadata": {},
     "output_type": "execute_result"
    }
   ],
   "source": [
    "3 * name #multiplication on str"
   ]
  },
  {
   "cell_type": "code",
   "execution_count": 71,
   "metadata": {},
   "outputs": [
    {
     "name": "stdout",
     "output_type": "stream",
     "text": [
      "7\n"
     ]
    },
    {
     "data": {
      "text/plain": [
       "int"
      ]
     },
     "execution_count": 71,
     "metadata": {},
     "output_type": "execute_result"
    }
   ],
   "source": [
    "print(len(name)) #the 'len' arg returns the number of char in the str.\n",
    "type(len(name)) #can you guess the type?"
   ]
  },
  {
   "cell_type": "code",
   "execution_count": 72,
   "metadata": {},
   "outputs": [
    {
     "data": {
      "text/plain": [
       "'r'"
      ]
     },
     "execution_count": 72,
     "metadata": {},
     "output_type": "execute_result"
    }
   ],
   "source": [
    "'Griffin'[1] #note indexing starts with 0"
   ]
  },
  {
   "cell_type": "code",
   "execution_count": 73,
   "metadata": {},
   "outputs": [
    {
     "data": {
      "text/plain": [
       "'Grif'"
      ]
     },
     "execution_count": 73,
     "metadata": {},
     "output_type": "execute_result"
    }
   ],
   "source": [
    "name[0:4] #note python reads the slice as [0,4)"
   ]
  },
  {
   "cell_type": "markdown",
   "metadata": {},
   "source": [
    "> ## Index/slicing\n",
    ">It's worth the time to play arround with the indexing and slicing notation. you can do a lot of percular things. In the cod ebelow try to predict the output before you execute! (the output might be an error!)"
   ]
  },
  {
   "cell_type": "code",
   "execution_count": 74,
   "metadata": {},
   "outputs": [
    {
     "data": {
      "text/plain": [
       "'Grif'"
      ]
     },
     "execution_count": 74,
     "metadata": {},
     "output_type": "execute_result"
    }
   ],
   "source": [
    "X = \"Griffin\"\n",
    "X[:4] #beginning to index 4"
   ]
  },
  {
   "cell_type": "code",
   "execution_count": 75,
   "metadata": {},
   "outputs": [
    {
     "data": {
      "text/plain": [
       "'riffin'"
      ]
     },
     "execution_count": 75,
     "metadata": {},
     "output_type": "execute_result"
    }
   ],
   "source": [
    "X[1:] #index 1 to the end"
   ]
  },
  {
   "cell_type": "code",
   "execution_count": 76,
   "metadata": {},
   "outputs": [
    {
     "data": {
      "text/plain": [
       "'f'"
      ]
     },
     "execution_count": 76,
     "metadata": {},
     "output_type": "execute_result"
    }
   ],
   "source": [
    "X[-3] #start at the end with negative indexes!"
   ]
  },
  {
   "cell_type": "code",
   "execution_count": 77,
   "metadata": {},
   "outputs": [
    {
     "data": {
      "text/plain": [
       "''"
      ]
     },
     "execution_count": 77,
     "metadata": {},
     "output_type": "execute_result"
    }
   ],
   "source": [
    "X[-1:-5] #you read from left to right..."
   ]
  },
  {
   "cell_type": "code",
   "execution_count": 78,
   "metadata": {},
   "outputs": [
    {
     "data": {
      "text/plain": [
       "'iffi'"
      ]
     },
     "execution_count": 78,
     "metadata": {},
     "output_type": "execute_result"
    }
   ],
   "source": [
    "X[-5:-1]"
   ]
  },
  {
   "cell_type": "code",
   "execution_count": 79,
   "metadata": {},
   "outputs": [
    {
     "data": {
      "text/plain": [
       "'ffi'"
      ]
     },
     "execution_count": 79,
     "metadata": {},
     "output_type": "execute_result"
    }
   ],
   "source": [
    "X[-4:6]"
   ]
  },
  {
   "cell_type": "code",
   "execution_count": 80,
   "metadata": {},
   "outputs": [
    {
     "data": {
      "text/plain": [
       "'JIHGFEDCBA'"
      ]
     },
     "execution_count": 80,
     "metadata": {},
     "output_type": "execute_result"
    }
   ],
   "source": [
    "x = 'ABCDEFGHIJ'\n",
    "x[::-1] #go to start to finish in reverse order"
   ]
  },
  {
   "cell_type": "code",
   "execution_count": 81,
   "metadata": {},
   "outputs": [
    {
     "data": {
      "text/plain": [
       "'BDFH'"
      ]
     },
     "execution_count": 81,
     "metadata": {},
     "output_type": "execute_result"
    }
   ],
   "source": [
    "x[1:9:2] #every 2nd value from the range index 1 to 9"
   ]
  },
  {
   "cell_type": "markdown",
   "metadata": {},
   "source": [
    "> ## Printing Strings\n",
    "> Let us now learn how to print with multiple arguments. Suppose we were given the length and width of a rectangle and wanted to print the area. How can we do this without hardcoding the script?"
   ]
  },
  {
   "cell_type": "code",
   "execution_count": 82,
   "metadata": {},
   "outputs": [
    {
     "name": "stdout",
     "output_type": "stream",
     "text": [
      "With width 4 , and with length 10 , the area is 40 .\n"
     ]
    }
   ],
   "source": [
    "'''You can input variables into your print statements.\n",
    "to do this just separate with a comma. '''\n",
    "\n",
    "width = 4\n",
    "length = 10\n",
    "area = width * length\n",
    "print(\"With width\", width, ', and with length', length,\n",
    "      ', the area is' ,area, '.')"
   ]
  },
  {
   "cell_type": "markdown",
   "metadata": {},
   "source": [
    "> Now this looks pretty good and it gets the point accross but I want it to read fluidly like a book. How can I manage to take away the spaces between the variables and the punctuation?\n",
    "\n",
    "> Let's try concatination."
   ]
  },
  {
   "cell_type": "code",
   "execution_count": 83,
   "metadata": {},
   "outputs": [
    {
     "ename": "TypeError",
     "evalue": "must be str, not int",
     "output_type": "error",
     "traceback": [
      "\u001b[0;31m---------------------------------------------------------------------------\u001b[0m",
      "\u001b[0;31mTypeError\u001b[0m                                 Traceback (most recent call last)",
      "\u001b[0;32m<ipython-input-83-57e11f348108>\u001b[0m in \u001b[0;36m<module>\u001b[0;34m()\u001b[0m\n\u001b[1;32m      1\u001b[0m print(\"With width \" + width + ', and with length ' + length +\n\u001b[0;32m----> 2\u001b[0;31m       ' the area is ' + area + '.')\n\u001b[0m",
      "\u001b[0;31mTypeError\u001b[0m: must be str, not int"
     ]
    }
   ],
   "source": [
    "print(\"With width \" + width + ', and with length ' + length +\n",
    "      ' the area is ' + area + '.')"
   ]
  },
  {
   "cell_type": "markdown",
   "metadata": {},
   "source": [
    "> When we executed we recieved a type error. It doesn't make logical since to add an integer or a float to a string. We have seen previously that we can concatinate strings together with the '+' opperator. If only there were a way to change the type..."
   ]
  },
  {
   "cell_type": "code",
   "execution_count": null,
   "metadata": {
    "collapsed": true
   },
   "outputs": [],
   "source": [
    "'''Remember concatination yields one string melded together. \n",
    "So be sure to input actual spaces wherever you see fit.'''\n",
    "\n",
    "len_str = str(length)\n",
    "width_str = str(width)\n",
    "area_str = str(area)\n",
    "print(\"With width \" + width_str + ', and with length '\n",
    "      + len_str + ', the area is ' + area_str + '.')"
   ]
  },
  {
   "cell_type": "markdown",
   "metadata": {},
   "source": [
    "## Input/Output\n",
    ">What if our code or program requires user input (like a guessing game). \n",
    "> - How can we tell our maching to ask for input form the user?\n",
    "- What type will this input be?\n",
    "- Can we choose a type by casting?"
   ]
  },
  {
   "cell_type": "code",
   "execution_count": null,
   "metadata": {
    "collapsed": true
   },
   "outputs": [],
   "source": [
    "text = input(\"type anything\")"
   ]
  },
  {
   "cell_type": "code",
   "execution_count": null,
   "metadata": {
    "collapsed": true
   },
   "outputs": [],
   "source": [
    "type(text) #what is the given type of an input?"
   ]
  },
  {
   "cell_type": "markdown",
   "metadata": {},
   "source": [
    "> Can you guess why, in the first example, your input is glued to the text: \"type anything\". \n",
    "> - It is because your machine concatinates the user input with the argument in the function 'input'.\n",
    "\n",
    "> What's the work around? \n",
    "> - Recall the following code from lesson 1. Pay close attention to the first line of the code and notice the details. Notice how we cast the the input as an integer so putting in non integer values will throw an error. And also notice the space after the colon. This plays a role into readability and makes for better code."
   ]
  },
  {
   "cell_type": "code",
   "execution_count": null,
   "metadata": {
    "collapsed": true
   },
   "outputs": [],
   "source": [
    "x = int(input('Enter an integer: ')) #cast to int, space after \":\"\n",
    "if x%2 == 0:\n",
    "    print('') #This prints a blank line\n",
    "    print('Even')\n",
    "else:\n",
    "    print('\\nOdd') #'\\n' also prints a blank line \n",
    "print('Done with conditional')"
   ]
  },
  {
   "cell_type": "markdown",
   "metadata": {},
   "source": [
    "## Control Flow\n",
    "> ## Conditional Statements\n",
    "> There are some subtleties in contional statements and I want to take a moment to point a few of them out. \n",
    "\n",
    "> In a conditional statement such as this. The 'elif' and 'else' statements are only reached if the previous conditinals are false. That is why the output here is \"Hot\" and not \"REALLY HOT!\"."
   ]
  },
  {
   "cell_type": "code",
   "execution_count": null,
   "metadata": {
    "collapsed": true
   },
   "outputs": [],
   "source": [
    "'''Guess the output of the following code.'''\n",
    "\n",
    "temp = 120\n",
    "if temp > 85:\n",
    "   print(\"Hot\")\n",
    "elif temp > 100:\n",
    "   print(\"REALLY HOT!\")\n",
    "elif temp > 60:\n",
    "   print(\"Comfortable\") \n",
    "else:\n",
    "   print(\"Cold\")"
   ]
  },
  {
   "cell_type": "markdown",
   "metadata": {},
   "source": [
    "> ## Introduction to Loops\n",
    "\n",
    "> ### **While Loops**\n",
    "\n",
    "> While loops check a condition, and if that condition is True they are going to go back around and keep looping until that condition as False. Then the machine will jump out of the While loop and continue reading the following code.\n",
    "\n",
    "> The format of a while loop is very simple it is:\n",
    "- while [condition]\n",
    "    - [expression]\n",
    "    - [expression]\n",
    "\n",
    "> where the condition evaluates to a Boolean and if the condition is\n",
    "**True** you execute the steps inside the while code block. Then repeat until the condition is **False**.\n",
    "\n",
    "> **Trouble's with the While Loop**\n",
    "\n",
    "> You may have already thought it, but what if the conditional statement is never False. What if my condition is something like `(1 < 3)` will I be trapped in an infinite loop? **Yes you will**, and you will have to manually stop the execution. To get past this be sure to increment your conditional. Check out the code below for an example.    "
   ]
  },
  {
   "cell_type": "code",
   "execution_count": null,
   "metadata": {
    "collapsed": true
   },
   "outputs": [],
   "source": [
    "'''Basic While Loop Example'''\n",
    "\n",
    "n = 0 #must initialize 'n'\n",
    "while(n < 5):\n",
    "    print(n)\n",
    "    n = n + 1 #Must increment 'n'!"
   ]
  },
  {
   "cell_type": "markdown",
   "metadata": {},
   "source": [
    "> ### **For Loops**\n",
    "\n",
    "> For Loops also have a particular syntax. They have a variable, a key word 'in' in our case, and an expression.\n",
    "- for 'variable' in range(some_num)\n",
    "    - [expression]\n",
    "    - [expression]\n",
    "    \n",
    "> See how we can execute the same code in half as many lines."
   ]
  },
  {
   "cell_type": "code",
   "execution_count": null,
   "metadata": {
    "collapsed": true
   },
   "outputs": [],
   "source": [
    "for n in range(5):\n",
    "    print(n)"
   ]
  },
  {
   "cell_type": "markdown",
   "metadata": {},
   "source": [
    "> ### **Range**\n",
    "\n",
    "> - range(start, stop, step)\n",
    "    - start and step are optional arguments where the defaults are\n",
    "        - start = 0\n",
    "        - step = 1"
   ]
  },
  {
   "cell_type": "code",
   "execution_count": null,
   "metadata": {
    "collapsed": true
   },
   "outputs": [],
   "source": [
    "mysum = 0 #initiate starting value\n",
    "for i in range(5,11,2): #give argument\n",
    "    mysum += i #add i to 'mysum' for every loop\n",
    "    print(mysum) #prints every time as it is in the loop"
   ]
  },
  {
   "cell_type": "code",
   "execution_count": null,
   "metadata": {
    "collapsed": true
   },
   "outputs": [],
   "source": [
    "mysum = 0 #initiate starting value\n",
    "for i in range(5,11,2): #give argument\n",
    "    mysum += i #add i to 'mysum' for every loop\n",
    "print(mysum) #prints the final sum once you break out of the loop"
   ]
  },
  {
   "cell_type": "markdown",
   "metadata": {},
   "source": [
    "> ## Break Statement\n",
    "\n",
    "> The break statement is valuable is it will make you exit whatever loop it is in, skipping the remaing expressions in the code block.\n",
    "> - while (condition_1)\n",
    "    - while (conditon_2)\n",
    "        - [expression_a]\n",
    "        - `break`\n",
    "        - [expression_b]\n",
    "    - [expression_c]\n",
    "    \n",
    "> The break gives you a natural way to control where you are inside of a loop, great for troubleshooting and stopping a loop. \n",
    "        "
   ]
  },
  {
   "cell_type": "code",
   "execution_count": null,
   "metadata": {
    "collapsed": true
   },
   "outputs": [],
   "source": [
    "mysum = 0 \n",
    "for i in range(5,11,2): \n",
    "    mysum += i \n",
    "    if (mysum == 12):\n",
    "        break\n",
    "print(mysum) "
   ]
  },
  {
   "cell_type": "markdown",
   "metadata": {},
   "source": [
    "> All in all for loops and while loops are very similar with subtle differences. \n",
    "- For loops are bounded, while loops are unbounded.\n",
    "- Both can end early from a 'break' stetement\n",
    "- Both can use a counter \n",
    "    - In while loops you must inititalize the counter \n",
    "\n",
    "> In most code we will tend to use for loops when we know what we're going to do as computation, and we will use while looks when there will be a condition we cannot predict. Both for loops and while loops gives as the first examples of iterative algorithms. "
   ]
  },
  {
   "cell_type": "code",
   "execution_count": null,
   "metadata": {
    "collapsed": true
   },
   "outputs": [],
   "source": [
    "happy = 4\n",
    "if (happy > 2):\n",
    "    print('hello world')"
   ]
  },
  {
   "cell_type": "code",
   "execution_count": null,
   "metadata": {
    "collapsed": true
   },
   "outputs": [],
   "source": [
    "varA = 7\n",
    "varB = '5'\n",
    "\n",
    "if (type(varA) == str):\n",
    "    print('string involved')\n",
    "elif (type(varB) == str):\n",
    "    print('string involved')\n",
    "elif (varA > varB):\n",
    "    print('bigger')\n",
    "elif (varA == varB):\n",
    "    print('equal')\n",
    "elif (varA < varB):\n",
    "    print('smaller')\n"
   ]
  },
  {
   "cell_type": "markdown",
   "metadata": {},
   "source": [
    "## Reviewing Loops"
   ]
  },
  {
   "cell_type": "code",
   "execution_count": 10,
   "metadata": {},
   "outputs": [
    {
     "name": "stdout",
     "output_type": "stream",
     "text": [
      "Enter an integer: -7\n",
      "\n",
      " -7 is not a perfect square\n",
      "Did you mean7?\n"
     ]
    }
   ],
   "source": [
    "ans = 0 \n",
    "neg_flag = False\n",
    "x = int(input(\"Enter an integer: \"))\n",
    "if x < 0:\n",
    "    neg_flag = True\n",
    "while ans**2 < x:\n",
    "    ans = ans +1\n",
    "if ans ** 2 == x:\n",
    "    print('\\nThe square root of', x, 'is ' + str(ans) +'.')\n",
    "else:\n",
    "    print('\\n', x, \"is not a perfect square\")\n",
    "    if neg_flag:\n",
    "        print('Did you mean' + str(-x) + '?')"
   ]
  },
  {
   "cell_type": "code",
   "execution_count": null,
   "metadata": {
    "collapsed": true
   },
   "outputs": [],
   "source": []
  }
 ],
 "metadata": {
  "kernelspec": {
   "display_name": "Python 3",
   "language": "python",
   "name": "python3"
  },
  "language_info": {
   "codemirror_mode": {
    "name": "ipython",
    "version": 3
   },
   "file_extension": ".py",
   "mimetype": "text/x-python",
   "name": "python",
   "nbconvert_exporter": "python",
   "pygments_lexer": "ipython3",
   "version": "3.6.2"
  }
 },
 "nbformat": 4,
 "nbformat_minor": 2
}
