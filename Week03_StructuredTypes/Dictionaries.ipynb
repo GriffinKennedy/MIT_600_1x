{
 "cells": [
  {
   "cell_type": "markdown",
   "metadata": {},
   "source": [
    "### Dictionaries\n",
    "\n"
   ]
  },
  {
   "cell_type": "code",
   "execution_count": 1,
   "metadata": {},
   "outputs": [
    {
     "data": {
      "text/plain": [
       "{'a': 'aardvark', 'b': 'baboon', 'c': 'cat', 'd': 'donkey'}"
      ]
     },
     "execution_count": 1,
     "metadata": {},
     "output_type": "execute_result"
    }
   ],
   "source": [
    "animals = { 'a' : 'aardvark', 'b' : 'baboon', 'c': 'cat' }\n",
    "animals['d'] = 'donkey'\n",
    "animals"
   ]
  },
  {
   "cell_type": "code",
   "execution_count": 2,
   "metadata": {},
   "outputs": [
    {
     "data": {
      "text/plain": [
       "'donkey'"
      ]
     },
     "execution_count": 2,
     "metadata": {},
     "output_type": "execute_result"
    }
   ],
   "source": [
    "animals['d']"
   ]
  },
  {
   "cell_type": "code",
   "execution_count": 3,
   "metadata": {},
   "outputs": [
    {
     "ename": "KeyError",
     "evalue": "'aardvark'",
     "output_type": "error",
     "traceback": [
      "\u001b[0;31m---------------------------------------------------------------------------\u001b[0m",
      "\u001b[0;31mKeyError\u001b[0m                                  Traceback (most recent call last)",
      "\u001b[0;32m<ipython-input-3-a471e6bd8c88>\u001b[0m in \u001b[0;36m<module>\u001b[0;34m()\u001b[0m\n\u001b[0;32m----> 1\u001b[0;31m \u001b[0manimals\u001b[0m\u001b[0;34m[\u001b[0m\u001b[0;34m'aardvark'\u001b[0m\u001b[0;34m]\u001b[0m\u001b[0;34m\u001b[0m\u001b[0m\n\u001b[0m",
      "\u001b[0;31mKeyError\u001b[0m: 'aardvark'"
     ]
    }
   ],
   "source": [
    "animals['aardvark']"
   ]
  },
  {
   "cell_type": "code",
   "execution_count": null,
   "metadata": {
    "collapsed": true
   },
   "outputs": [],
   "source": [
    "len(animals)"
   ]
  },
  {
   "cell_type": "code",
   "execution_count": null,
   "metadata": {
    "collapsed": true
   },
   "outputs": [],
   "source": [
    "animals['a'] = 'anteater'"
   ]
  },
  {
   "cell_type": "code",
   "execution_count": null,
   "metadata": {
    "collapsed": true
   },
   "outputs": [],
   "source": [
    "animals['a']"
   ]
  },
  {
   "cell_type": "code",
   "execution_count": null,
   "metadata": {
    "collapsed": true
   },
   "outputs": [],
   "source": [
    "len(animals['a'])"
   ]
  },
  {
   "cell_type": "code",
   "execution_count": null,
   "metadata": {
    "collapsed": true
   },
   "outputs": [],
   "source": [
    "'baboon' in animals"
   ]
  },
  {
   "cell_type": "code",
   "execution_count": null,
   "metadata": {
    "collapsed": true
   },
   "outputs": [],
   "source": [
    "'donkey' in animals.values()"
   ]
  },
  {
   "cell_type": "code",
   "execution_count": null,
   "metadata": {
    "collapsed": true
   },
   "outputs": [],
   "source": [
    "'b' in animals"
   ]
  },
  {
   "cell_type": "code",
   "execution_count": null,
   "metadata": {
    "collapsed": true
   },
   "outputs": [],
   "source": [
    "animals.keys()"
   ]
  },
  {
   "cell_type": "code",
   "execution_count": null,
   "metadata": {
    "collapsed": true
   },
   "outputs": [],
   "source": [
    "animals['b']"
   ]
  },
  {
   "cell_type": "code",
   "execution_count": null,
   "metadata": {
    "collapsed": true
   },
   "outputs": [],
   "source": [
    "animals.values()"
   ]
  },
  {
   "cell_type": "code",
   "execution_count": null,
   "metadata": {
    "collapsed": true
   },
   "outputs": [],
   "source": [
    "del animals['b']\n",
    "animals"
   ]
  },
  {
   "cell_type": "markdown",
   "metadata": {},
   "source": [
    "We want to write some simple procedures that work on dictionaries to return information.\n",
    "\n",
    "First, write a procedure, called how_many, which returns the sum of the number of values associated with a dictionary. For example the following code would return 6"
   ]
  },
  {
   "cell_type": "code",
   "execution_count": 5,
   "metadata": {},
   "outputs": [
    {
     "data": {
      "text/plain": [
       "{'a': ['aardvark'],\n",
       " 'b': ['baboon'],\n",
       " 'c': ['coati'],\n",
       " 'd': ['donkey', 'dog', 'dingo']}"
      ]
     },
     "execution_count": 5,
     "metadata": {},
     "output_type": "execute_result"
    }
   ],
   "source": [
    "animals = { 'a': ['aardvark'], 'b': ['baboon'], 'c': ['coati']}\n",
    "\n",
    "animals['d'] = ['donkey']\n",
    "animals['d'].append('dog')\n",
    "animals['d'].append('dingo')\n",
    "animals"
   ]
  },
  {
   "cell_type": "code",
   "execution_count": 6,
   "metadata": {},
   "outputs": [
    {
     "ename": "TypeError",
     "evalue": "unhashable type: 'list'",
     "output_type": "error",
     "traceback": [
      "\u001b[0;31m---------------------------------------------------------------------------\u001b[0m",
      "\u001b[0;31mTypeError\u001b[0m                                 Traceback (most recent call last)",
      "\u001b[0;32m<ipython-input-6-dd52b430e7ac>\u001b[0m in \u001b[0;36m<module>\u001b[0;34m()\u001b[0m\n\u001b[1;32m      1\u001b[0m \u001b[0minv_map\u001b[0m \u001b[0;34m=\u001b[0m \u001b[0;34m{\u001b[0m\u001b[0;34m}\u001b[0m\u001b[0;34m\u001b[0m\u001b[0m\n\u001b[1;32m      2\u001b[0m \u001b[0;32mfor\u001b[0m \u001b[0mk\u001b[0m\u001b[0;34m,\u001b[0m \u001b[0mv\u001b[0m \u001b[0;32min\u001b[0m \u001b[0manimals\u001b[0m\u001b[0;34m.\u001b[0m\u001b[0mitems\u001b[0m\u001b[0;34m(\u001b[0m\u001b[0;34m)\u001b[0m\u001b[0;34m:\u001b[0m\u001b[0;34m\u001b[0m\u001b[0m\n\u001b[0;32m----> 3\u001b[0;31m     \u001b[0minv_map\u001b[0m\u001b[0;34m[\u001b[0m\u001b[0mv\u001b[0m\u001b[0;34m]\u001b[0m \u001b[0;34m=\u001b[0m \u001b[0minv_map\u001b[0m\u001b[0;34m.\u001b[0m\u001b[0mget\u001b[0m\u001b[0;34m(\u001b[0m\u001b[0mv\u001b[0m\u001b[0;34m,\u001b[0m \u001b[0;34m[\u001b[0m\u001b[0;34m]\u001b[0m\u001b[0;34m)\u001b[0m\u001b[0;34m\u001b[0m\u001b[0m\n\u001b[0m\u001b[1;32m      4\u001b[0m     \u001b[0minv_map\u001b[0m\u001b[0;34m[\u001b[0m\u001b[0mv\u001b[0m\u001b[0;34m]\u001b[0m\u001b[0;34m.\u001b[0m\u001b[0mappend\u001b[0m\u001b[0;34m(\u001b[0m\u001b[0mk\u001b[0m\u001b[0;34m)\u001b[0m\u001b[0;34m\u001b[0m\u001b[0m\n\u001b[1;32m      5\u001b[0m \u001b[0minv_map\u001b[0m\u001b[0;34m\u001b[0m\u001b[0m\n",
      "\u001b[0;31mTypeError\u001b[0m: unhashable type: 'list'"
     ]
    }
   ],
   "source": [
    "inv_map = {}\n",
    "for k, v in animals.items():\n",
    "    inv_map[v] = inv_map.get(v, [])\n",
    "    inv_map[v].append(k)\n",
    "inv_map"
   ]
  },
  {
   "cell_type": "code",
   "execution_count": 3,
   "metadata": {},
   "outputs": [
    {
     "data": {
      "text/plain": [
       "3"
      ]
     },
     "execution_count": 3,
     "metadata": {},
     "output_type": "execute_result"
    }
   ],
   "source": [
    "len(animals['d'])"
   ]
  },
  {
   "cell_type": "code",
   "execution_count": null,
   "metadata": {
    "collapsed": true
   },
   "outputs": [],
   "source": [
    "bigger = 0\n",
    "type(bigger)"
   ]
  },
  {
   "cell_type": "code",
   "execution_count": null,
   "metadata": {
    "collapsed": true
   },
   "outputs": [],
   "source": [
    "n = 0\n",
    "for e in animals.keys():\n",
    "    if len(animals[e]) > n:\n",
    "        x = e\n",
    "print(x)\n",
    "    "
   ]
  },
  {
   "cell_type": "markdown",
   "metadata": {},
   "source": [
    "Hangman code notes"
   ]
  },
  {
   "cell_type": "code",
   "execution_count": null,
   "metadata": {
    "collapsed": true
   },
   "outputs": [],
   "source": [
    "'''How do you have input a string and return a list of its elements?'''\n",
    "\n",
    "string = 'hello'\n",
    "list(string)"
   ]
  },
  {
   "cell_type": "code",
   "execution_count": null,
   "metadata": {
    "collapsed": true
   },
   "outputs": [],
   "source": [
    "def isWordGuessed(secretWord, lettersGuessed):\n",
    "    '''\n",
    "    secretWord: string, the word the user is guessing\n",
    "    lettersGuessed: list, what letters have been guessed so far\n",
    "    returns: boolean, True if all the letters of secretWord are in lettersGuessed;\n",
    "      False otherwise\n",
    "    '''\n",
    "    for e in list(secretWord):\n",
    "        if e not in lettersGuessed:\n",
    "            return False\n",
    "    return True\n",
    "isWordGuessed('griffin', ['g', 'r', 'b' 'f', 'f', 'i', 'n'])"
   ]
  },
  {
   "cell_type": "code",
   "execution_count": null,
   "metadata": {
    "collapsed": true
   },
   "outputs": [],
   "source": [
    "secretWord = 'griffin'\n",
    "lettersGuessed = ['g', 'r', 'i', 'f', 'f', 'i', 'n']\n",
    "if any((list(secretWord))) in lettersGuessed:\n",
    "    print('here')\n",
    "else:\n",
    "    print('nope')"
   ]
  },
  {
   "cell_type": "code",
   "execution_count": null,
   "metadata": {
    "collapsed": true
   },
   "outputs": [],
   "source": [
    "def getGuessedWord(secretWord, lettersGuessed):\n",
    "    '''\n",
    "    secretWord: string, the word the user is guessing\n",
    "    lettersGuessed: list, what letters have been guessed so far\n",
    "    returns: string, comprised of letters and underscores that represents\n",
    "      what letters in secretWord have been guessed so far.\n",
    "    '''\n",
    "    output = len(secretWord) * '_ '\n",
    "    \n",
    "    "
   ]
  },
  {
   "cell_type": "code",
   "execution_count": null,
   "metadata": {
    "collapsed": true
   },
   "outputs": [],
   "source": [
    "output = len(secretWord) * '_ '\n",
    "output[4]"
   ]
  },
  {
   "cell_type": "code",
   "execution_count": null,
   "metadata": {
    "collapsed": true
   },
   "outputs": [],
   "source": [
    "output = ['_ '] * len(secretWord)\n",
    "lettersGuessed = ['g', 'r', 'f'] #'f', 'f', 'i', 'n']\n",
    "secretWord.index('i')\n",
    "\n",
    "\n"
   ]
  },
  {
   "cell_type": "code",
   "execution_count": null,
   "metadata": {
    "collapsed": true
   },
   "outputs": [],
   "source": [
    "''.join(['g', 'r', 'i', 'f', 'f', 'i', 'n'])"
   ]
  },
  {
   "cell_type": "code",
   "execution_count": null,
   "metadata": {
    "collapsed": true
   },
   "outputs": [],
   "source": [
    "lettersGuessed = ['g', 'r', 'f'] #'f', 'f', 'i', 'n']\n",
    "secretWord = 'griffin'\n",
    "output = ['_ '] * len(secretWord)\n",
    "\n",
    "for e in lettersGuessed:\n",
    "    if e in list(secretWord):\n",
    "        indices = [i for i, x in enumerate(my_list) if x == e]\n",
    "        for f in indices:\n",
    "            output[f] = e\n",
    "print(''.join(output))"
   ]
  },
  {
   "cell_type": "code",
   "execution_count": null,
   "metadata": {
    "collapsed": true
   },
   "outputs": [],
   "source": [
    "my_list = list(secretWord)\n",
    "output = ['_ '] * len(secretWord)\n",
    "\n",
    "\n",
    "indices = [i for i, x in enumerate(my_list) if x == \"f\"]\n",
    "for f in indices:\n",
    "    output[f] = e\n",
    "output"
   ]
  },
  {
   "cell_type": "code",
   "execution_count": null,
   "metadata": {
    "collapsed": true
   },
   "outputs": [],
   "source": [
    "import string\n",
    "def getAvailableLetters(lettersGuessed):\n",
    "    lcase = list(string.ascii_lowercase)\n",
    "    for e in lettersGuessed:\n",
    "        if e in lcase:\n",
    "            lcase.remove(e)\n",
    "    return ''.join(lcase)"
   ]
  },
  {
   "cell_type": "code",
   "execution_count": null,
   "metadata": {},
   "outputs": [
    {
     "name": "stdout",
     "output_type": "stream",
     "text": [
      "Welcome to hangman!\n",
      "I am thinking of a word that is 5 letters long.\n",
      "\n",
      "You have 8 guesses left!\n",
      "Available letters: abcdefghijklmnopqrstuvwxyz\n",
      "Please guess a letter: k\n",
      "['k']\n",
      "\n",
      "You have 8 guesses left!\n",
      "Available letters: abcdefghijlmnopqrstuvwxyz\n",
      "Please guess a letter: d\n",
      "['k', 'd']\n",
      "\n",
      "You have 8 guesses left!\n",
      "Available letters: abcefghijlmnopqrstuvwxyz\n"
     ]
    }
   ],
   "source": [
    "import string\n",
    "def getAvailableLetters(lettersGuessed):\n",
    "    lcase = list(string.ascii_lowercase)\n",
    "    for e in lettersGuessed:\n",
    "        if e in lcase:\n",
    "            lcase.remove(e)\n",
    "    return ''.join(lcase)\n",
    "secretWord = 'hello'\n",
    "lettersGuessed = []\n",
    "print('Welcome to hangman!')\n",
    "print(\"I am thinking of a word that is\", len(secretWord), 'letters long.')\n",
    "\n",
    "while True:\n",
    "    guess_number = 8\n",
    "    if guess_number <= 8:\n",
    "        print('\\nYou have ' + str(guess_number) + ' guesses left!')\n",
    "    elif guess_number == 1:\n",
    "        print('\\nYou have' + str(guess_number) + 'guess left!')\n",
    "    else:\n",
    "        print('\\nSorry, you have no guesses left.')\n",
    "    print('Available letters:', getAvailableLetters(lettersGuessed))\n",
    "    text = input('Please guess a letter: ')\n",
    "    lettersGuessed.append(text)\n",
    "    print(lettersGuessed)"
   ]
  },
  {
   "cell_type": "code",
   "execution_count": 2,
   "metadata": {},
   "outputs": [
    {
     "name": "stdout",
     "output_type": "stream",
     "text": [
      "Loading word list from file...\n",
      "   55909 words loaded.\n",
      "Welcome to hangman!\n",
      "I am thinking of a word that is 6 letters long.\n",
      "\n",
      "You have 8 guesses left!\n",
      "Available letters: abcdefghijklmnopqrstuvwxyz\n",
      "Please guess a letter: f\n",
      "Good guess: f_ _ _ _ _ \n",
      "\n",
      "You have 8 guesses left!\n",
      "Available letters: abcdeghijklmnopqrstuvwxyz\n",
      "Please guess a letter: r\n",
      "Oops! That letter is not in my word: f_ _ _ _ _ \n",
      "\n",
      "You have 7 guesses left!\n",
      "Available letters: abcdeghijklmnopqstuvwxyz\n",
      "Please guess a letter: a\n",
      "Good guess: f_ a_ _ _ \n",
      "\n",
      "You have 7 guesses left!\n",
      "Available letters: bcdeghijklmnopqstuvwxyz\n",
      "Please guess a letter: d\n",
      "Oops! That letter is not in my word: f_ a_ _ _ \n",
      "\n",
      "You have 6 guesses left!\n",
      "Available letters: bceghijklmnopqstuvwxyz\n",
      "Please guess a letter: f\n",
      "\n",
      "You already guessed that letter, try again!\n",
      "Please guess a letter: g\n",
      "Good guess: f_ a_ g_ \n",
      "\n",
      "You have 6 guesses left!\n",
      "Available letters: bcehijklmnopqstuvwxyz\n",
      "Please guess a letter: t\n",
      "Oops! That letter is not in my word: f_ a_ g_ \n",
      "\n",
      "You have 5 guesses left!\n",
      "Available letters: bcehijklmnopqsuvwxyz\n",
      "Please guess a letter: y\n",
      "Oops! That letter is not in my word: f_ a_ g_ \n",
      "\n",
      "You have 4 guesses left!\n",
      "Available letters: bcehijklmnopqsuvwxz\n",
      "Please guess a letter: u\n",
      "Oops! That letter is not in my word: f_ a_ g_ \n",
      "\n",
      "You have 3 guesses left!\n",
      "Available letters: bcehijklmnopqsvwxz\n",
      "Please guess a letter: i\n",
      "Oops! That letter is not in my word: f_ a_ g_ \n",
      "\n",
      "You have 2 guesses left!\n",
      "Available letters: bcehjklmnopqsvwxz\n",
      "Please guess a letter: o\n",
      "Oops! That letter is not in my word: f_ a_ g_ \n",
      "\n",
      "You have 1 guess left!\n",
      "Available letters: bcehjklmnpqsvwxz\n",
      "Please guess a letter: p\n",
      "Oops! That letter is not in my word: f_ a_ g_ \n",
      "\n",
      "Sorry, you ran out of guesses. The word was flange.\n"
     ]
    }
   ],
   "source": [
    "# Hangman game\n",
    "#\n",
    "\n",
    "# -----------------------------------\n",
    "# Helper code\n",
    "# You don't need to understand this helper code,\n",
    "# but you will have to know how to use the functions\n",
    "# (so be sure to read the docstrings!)\n",
    "\n",
    "import random\n",
    "import string\n",
    "\n",
    "WORDLIST_FILENAME = \"words.txt\"\n",
    "\n",
    "def loadWords():\n",
    "    \"\"\"\n",
    "    Returns a list of valid words. Words are strings of lowercase letters.\n",
    "\n",
    "    Depending on the size of the word list, this function may\n",
    "    take a while to finish.\n",
    "    \"\"\"\n",
    "    print(\"Loading word list from file...\")\n",
    "    # inFile: file\n",
    "    inFile = open(WORDLIST_FILENAME, 'r')\n",
    "    # line: string\n",
    "    line = inFile.readline()\n",
    "    # wordlist: list of strings\n",
    "    wordlist = line.split()\n",
    "    print(\"  \", len(wordlist), \"words loaded.\")\n",
    "    return wordlist\n",
    "\n",
    "def chooseWord(wordlist):\n",
    "    \"\"\"\n",
    "    wordlist (list): list of words (strings)\n",
    "\n",
    "    Returns a word from wordlist at random\n",
    "    \"\"\"\n",
    "    return random.choice(wordlist)\n",
    "\n",
    "# end of helper code\n",
    "# -----------------------------------\n",
    "\n",
    "# Load the list of words into the variable wordlist\n",
    "# so that it can be accessed from anywhere in the program\n",
    "wordlist = loadWords()\n",
    "\n",
    "def isWordGuessed(secretWord, lettersGuessed):\n",
    "    '''\n",
    "    secretWord: string, the word the user is guessing\n",
    "    lettersGuessed: list, what letters have been guessed so far\n",
    "    returns: boolean, True if all the letters of secretWord are in lettersGuessed;\n",
    "      False otherwise\n",
    "    '''\n",
    "    for e in list(secretWord):\n",
    "        if e not in lettersGuessed:\n",
    "            return False\n",
    "    return True\n",
    "\n",
    "\n",
    "\n",
    "def getGuessedWord(secretWord, lettersGuessed):\n",
    "    '''\n",
    "    secretWord: string, the word the user is guessing\n",
    "    lettersGuessed: list, what letters have been guessed so far\n",
    "    returns: string, comprised of letters and underscores that represents\n",
    "      what letters in secretWord have been guessed so far.\n",
    "    '''\n",
    "    output = ['_ '] * len(secretWord)\n",
    "    for e in lettersGuessed:\n",
    "        if e in list(secretWord):\n",
    "            indices = [i for i, x in enumerate(list(secretWord)) if x == e]\n",
    "            for f in indices:\n",
    "                output[f] = e\n",
    "    return ''.join(output)\n",
    "\n",
    "\n",
    "\n",
    "def getAvailableLetters(lettersGuessed):\n",
    "    '''\n",
    "    lettersGuessed: list, what letters have been guessed so far\n",
    "    returns: string, comprised of letters that represents what letters have not\n",
    "      yet been guessed.\n",
    "    '''\n",
    "    lcase = list(string.ascii_lowercase)\n",
    "    for e in lettersGuessed:\n",
    "        if e in lcase:\n",
    "            lcase.remove(e)\n",
    "    return ''.join(lcase)\n",
    "\n",
    "\n",
    "def hangman(secretWord):\n",
    "    '''\n",
    "    secretWord: string, the secret word to guess.\n",
    "\n",
    "    Starts up an interactive game of Hangman.\n",
    "\n",
    "    * At the start of the game, let the user know how many\n",
    "      letters the secretWord contains.\n",
    "\n",
    "    * Ask the user to supply one guess (i.e. letter) per round.\n",
    "\n",
    "    * The user should receive feedback immediately after each guess\n",
    "      about whether their guess appears in the computers word.\n",
    "\n",
    "    * After each round, you should also display to the user the\n",
    "      partially guessed word so far, as well as letters that the\n",
    "      user has not yet guessed.\n",
    "\n",
    "    Follows the other limitations detailed in the problem write-up.\n",
    "    '''\n",
    "    lettersGuessed = []\n",
    "    print('Welcome to hangman!')\n",
    "    print(\"I am thinking of a word that is\", len(secretWord), 'letters long.')\n",
    "    guess_number = 8\n",
    "\n",
    "\n",
    "    while isWordGuessed(secretWord, lettersGuessed) == False:\n",
    "\n",
    "        if guess_number > 1:\n",
    "            print('\\nYou have ' + str(guess_number) + ' guesses left!')\n",
    "        elif guess_number == 1:\n",
    "            print('\\nYou have ' + str(guess_number) + ' guess left!')\n",
    "        else:\n",
    "            return print('\\nSorry, you ran out of guesses. The word was ' + secretWord + '.')\n",
    "        \n",
    "        print('Available letters:', getAvailableLetters(lettersGuessed))\n",
    "        \n",
    "        text = input('Please guess a letter: ')\n",
    "        while text in lettersGuessed:\n",
    "            print('\\nYou already guessed that letter, try again!')\n",
    "            text = input('Please guess a letter: ')\n",
    "        lettersGuessed.append(text)\n",
    "        if text in list(secretWord):\n",
    "            print('Good guess:', getGuessedWord(secretWord, lettersGuessed) )\n",
    "        else:\n",
    "            print('Oops! That letter is not in my word:', getGuessedWord(secretWord, lettersGuessed))\n",
    "            guess_number -= 1\n",
    "        \n",
    "    return 'Congratulations, you won!'\n",
    "\n",
    "\n",
    "\n",
    "\n",
    "\n",
    "\n",
    "# When you've completed your hangman function, uncomment these two lines\n",
    "# and run this file to test! (hint: you might want to pick your own\n",
    "# secretWord while you're testing)\n",
    "\n",
    "secretWord = chooseWord(wordlist).lower()\n",
    "hangman(secretWord)\n"
   ]
  },
  {
   "cell_type": "code",
   "execution_count": null,
   "metadata": {},
   "outputs": [
    {
     "name": "stdout",
     "output_type": "stream",
     "text": [
      "Welcome to the game Hangman!\n",
      "I am thinking of a word that is 7 letters long\n",
      "-----------\n",
      "You have 8 guesses left\n",
      "Available Letters: abcdefghijklmnopqrstuvwxyz\n",
      "Please guess a letter: g\n",
      "Good guess: g_ _ _ _ _ _ \n",
      "-----------\n",
      "You have 8 guesses left\n",
      "Available Letters: abcdefhijklmnopqrstuvwxyz\n",
      "Please guess a letter: r\n",
      "Good guess: gr_ _ _ _ _ \n",
      "-----------\n",
      "You have 8 guesses left\n",
      "Available Letters: abcdefhijklmnopqstuvwxyz\n",
      "Please guess a letter: g\n",
      "Oops! You've already guessed that letter: gr_ _ _ _ _ \n",
      "-----------\n",
      "You have 8 guesses left\n",
      "Available Letters: abcdefhijklmnopqstuvwxyz\n",
      "Please guess a letter: g\n",
      "Oops! You've already guessed that letter: gr_ _ _ _ _ \n",
      "-----------\n",
      "You have 8 guesses left\n",
      "Available Letters: abcdefhijklmnopqstuvwxyz\n",
      "Please guess a letter: h\n",
      "Oops! That letter is not in my word: gr_ _ _ _ _ \n",
      "-----------\n",
      "You have 7 guesses left\n",
      "Available Letters: abcdefijklmnopqstuvwxyz\n",
      "Please guess a letter: t\n",
      "Oops! That letter is not in my word: gr_ _ _ _ _ \n",
      "-----------\n",
      "You have 6 guesses left\n",
      "Available Letters: abcdefijklmnopqsuvwxyz\n",
      "Please guess a letter: y\n",
      "Oops! That letter is not in my word: gr_ _ _ _ _ \n",
      "-----------\n",
      "You have 5 guesses left\n",
      "Available Letters: abcdefijklmnopqsuvwxz\n",
      "Please guess a letter: h\n",
      "Oops! You've already guessed that letter: gr_ _ _ _ _ \n",
      "-----------\n",
      "You have 5 guesses left\n",
      "Available Letters: abcdefijklmnopqsuvwxz\n"
     ]
    }
   ],
   "source": [
    "def hangman(secretWord):\n",
    "    '''\n",
    "    secretWord: string, the secret word to guess.\n",
    "\n",
    "    Starts up an interactive game of Hangman.\n",
    "\n",
    "    * At the start of the game, let the user know how many \n",
    "      letters the secretWord contains.\n",
    "\n",
    "    * Ask the user to supply one guess (i.e. letter) per round.\n",
    "\n",
    "    * The user should receive feedback immediately after each guess \n",
    "      about whether their guess appears in the computers word.\n",
    "\n",
    "    * After each round, you should also display to the user the \n",
    "      partially guessed word so far, as well as letters that the \n",
    "      user has not yet guessed.\n",
    "\n",
    "    Follows the other limitations detailed in the problem write-up.\n",
    "    '''\n",
    "    lettersGuessed = []\n",
    "    print('Welcome to the game Hangman!')\n",
    "    print(\"I am thinking of a word that is\", len(secretWord), 'letters long')\n",
    "    print('-----------')\n",
    "    guess_number = 8\n",
    "\n",
    "\n",
    "    while isWordGuessed(secretWord, lettersGuessed) == False:\n",
    "\n",
    "        if guess_number > 1:\n",
    "            print('You have ' + str(guess_number) + ' guesses left')\n",
    "        elif guess_number == 1:\n",
    "            print('You have ' + str(guess_number) + ' guesses left')\n",
    "        else:\n",
    "            return print('Sorry, you ran out of guesses. The word was ' + secretWord + '.')\n",
    "        \n",
    "        print('Available Letters:', getAvailableLetters(lettersGuessed))\n",
    "        \n",
    "        text = input('Please guess a letter: ')\n",
    "        lettersGuessed.append(text)        \n",
    "        if text in lettersGuessed[:-1]:\n",
    "            print(\"Oops! You've already guessed that letter:\", getGuessedWord(secretWord, lettersGuessed))\n",
    "        elif text in list(secretWord):\n",
    "            print('Good guess:', getGuessedWord(secretWord, lettersGuessed) )\n",
    "        else:\n",
    "            print('Oops! That letter is not in my word:', getGuessedWord(secretWord, lettersGuessed))\n",
    "            guess_number -= 1\n",
    "        print('-----------')\n",
    "    return print('Congratulations, you won!')\n",
    "\n",
    "secretWord = 'griffin'\n",
    "hangman(secretWord)"
   ]
  },
  {
   "cell_type": "code",
   "execution_count": null,
   "metadata": {
    "collapsed": true
   },
   "outputs": [],
   "source": []
  }
 ],
 "metadata": {
  "kernelspec": {
   "display_name": "Python 3",
   "language": "python",
   "name": "python3"
  },
  "language_info": {
   "codemirror_mode": {
    "name": "ipython",
    "version": 3
   },
   "file_extension": ".py",
   "mimetype": "text/x-python",
   "name": "python",
   "nbconvert_exporter": "python",
   "pygments_lexer": "ipython3",
   "version": "3.6.2"
  }
 },
 "nbformat": 4,
 "nbformat_minor": 2
}
