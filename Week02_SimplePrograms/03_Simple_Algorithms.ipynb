{
 "cells": [
  {
   "cell_type": "markdown",
   "metadata": {},
   "source": [
    "## <center>MIT 6.00.1x\n",
    "### <center>Lesson 3: Simple Algorithms\n",
    "#### <center>**Author: Griffin Kennedy**"
   ]
  },
  {
   "cell_type": "markdown",
   "metadata": {},
   "source": [
    "### Learning Objectives\n",
    "\n",
    "> - Floats #I have not written on this section. check the lecture slides\n",
    "- approximate solutions\n",
    "- Bisection search\n",
    "- Newton-Raphson"
   ]
  },
  {
   "cell_type": "markdown",
   "metadata": {},
   "source": [
    "### Approximate Solutions\n",
    "> When writting code involving irrational outputs or approximation, such as: hypothesis testing, find cube root, etc, we can use an exhaustive enumeration technique to recieve an output of a *good enough* solution.\n",
    "\n",
    "> **exhaustive enumeration**\n",
    "\n",
    "> - start with a guess and increment it by some **small value**\n",
    "    - ${|guess^3|} - cube \\leq \\epsilon$\n",
    "- decreasing increment size -> slower program\n",
    "- increasing epsilon -> less accurate answer\n",
    "\n",
    "> Play around with the above below. Use Python tutor to explain why different inputs for x result in a failed or a successful attempt. How could we make this all around better code?"
   ]
  },
  {
   "cell_type": "code",
   "execution_count": 5,
   "metadata": {},
   "outputs": [
    {
     "name": "stdout",
     "output_type": "stream",
     "text": [
      "num_guesses = 29997\n",
      "2.999700000001906 is close to the cube root of 27\n"
     ]
    }
   ],
   "source": [
    "'''Find the cube root of a number'''\n",
    "\n",
    "cube = 27\n",
    "epsilon = 0.01\n",
    "guess = 0.0\n",
    "increment = 0.0001\n",
    "num_guesses = 0\n",
    "while abs(guess**3 -cube) >= epsilon and guess <= cube:\n",
    "    guess += increment\n",
    "    num_guesses += 1\n",
    "print('num_guesses =', num_guesses)\n",
    "if abs(guess**3 -cube) >= epsilon:\n",
    "    print('Failed on cube root of', cube)\n",
    "else:\n",
    "    print(guess, 'is close to the cube root of', cube)"
   ]
  },
  {
   "cell_type": "code",
   "execution_count": 6,
   "metadata": {},
   "outputs": [
    {
     "name": "stdout",
     "output_type": "stream",
     "text": [
      "failed\n"
     ]
    }
   ],
   "source": [
    "'''Square root with approximate solutions'''\n",
    "\n",
    "x = 23 # for a successful attempt input 25\n",
    "epsilon = 0.01\n",
    "step = 0.1\n",
    "guess = 0.0\n",
    "\n",
    "while abs(guess**2-x) >= epsilon:\n",
    "    if guess <= x:\n",
    "        guess += step\n",
    "    else:\n",
    "        break\n",
    "\n",
    "if abs(guess**2 - x) >= epsilon:\n",
    "    print('failed')\n",
    "else:\n",
    "    print('succeeded: ' + str(guess))"
   ]
  },
  {
   "cell_type": "markdown",
   "metadata": {},
   "source": [
    "### Bisection search\n",
    "> bisection search is the idea  of starting in the middle of your range, asking if you are too high or too low, then repeating. \n",
    "\n",
    "> Pick a number between 1 and 100 (Our num = 63). The bisection search method would be the following:\n",
    ">>  - 50: higher\n",
    ">>  - 75: lower\n",
    ">>  - 63: correct!\n",
    "        \n",
    "   > Wow! how powerful! We found the proper number in 3 guesses instead of 63. Notice how bisection search converges on the order of $\\log_{2}{N}$ steps.\n",
    ">> - first guess: $\\frac{N}{2}$\n",
    ">> - second guess: $\\frac{N}{2^2}$\n",
    ">> - gth guess: $\\frac{N}{2^g}$\n",
    "\n",
    "> Below, write code for the cube root of x using bisective search, note the difference in the number of guesses needed!"
   ]
  },
  {
   "cell_type": "code",
   "execution_count": 7,
   "metadata": {},
   "outputs": [
    {
     "name": "stdout",
     "output_type": "stream",
     "text": [
      "low = 1 high = 27 guess = 14.0\n",
      "low = 1 high = 14.0 guess = 7.5\n",
      "low = 1 high = 7.5 guess = 4.25\n",
      "low = 1 high = 4.25 guess = 2.625\n",
      "low = 2.625 high = 4.25 guess = 3.4375\n",
      "low = 2.625 high = 3.4375 guess = 3.03125\n",
      "low = 2.625 high = 3.03125 guess = 2.828125\n",
      "low = 2.828125 high = 3.03125 guess = 2.9296875\n",
      "low = 2.9296875 high = 3.03125 guess = 2.98046875\n",
      "low = 2.98046875 high = 3.03125 guess = 3.005859375\n",
      "low = 2.98046875 high = 3.005859375 guess = 2.9931640625\n",
      "low = 2.9931640625 high = 3.005859375 guess = 2.99951171875\n",
      "low = 2.99951171875 high = 3.005859375 guess = 3.002685546875\n",
      "low = 2.99951171875 high = 3.002685546875 guess = 3.0010986328125\n",
      "num_guesses = 14\n",
      "3.00030517578125 is close to the cube root of 27\n"
     ]
    }
   ],
   "source": [
    "'''cube root with bisection search'''\n",
    "\n",
    "cube = 27\n",
    "epsilon = 0.01\n",
    "num_guesses = 0\n",
    "low = 1\n",
    "high = cube\n",
    "guess = (high + low)/2\n",
    "while abs(guess**3 -cube) >= epsilon:\n",
    "    print('low = ' +str(low) + ' high = ' + str(high) +\n",
    "          ' guess = ' + str(guess))\n",
    "    if guess**3 < cube:\n",
    "        low = guess\n",
    "    else:\n",
    "        high = guess\n",
    "    guess = (high + low)/2\n",
    "    num_guesses += 1\n",
    "print('num_guesses =', num_guesses)\n",
    "print(guess, 'is close to the cube root of', cube)"
   ]
  },
  {
   "cell_type": "markdown",
   "metadata": {},
   "source": [
    "> Play around with code and notice how the code only works for positive cubes. Why is that?\n",
    "\n",
    "> **Challenges**\n",
    "> - modify the code to work with negative cubes\n",
    "- modify the code to work with fractions\n",
    "    - if x < 1, the search space is 0 to x but the cube root is greater than x and less than 1\n",
    "- create a new code called guess_game.py where you guess a number with bisective search!"
   ]
  },
  {
   "cell_type": "code",
   "execution_count": 2,
   "metadata": {},
   "outputs": [
    {
     "name": "stdout",
     "output_type": "stream",
     "text": [
      "Please think of a number between 0 and 100!\n",
      "\n",
      " Is your secret number 50?\n",
      "Enter 'h' if your SecretNum is Higher. \n",
      "Enter 'l' if your SecretNum is Lower. \n",
      "Enter 'c' to indicate I guessed correctly.c\n",
      "Game over. Your secret number was: 50\n"
     ]
    }
   ],
   "source": [
    "'''guess_game'''\n",
    "\n",
    "low_value = 0\n",
    "high_value = 100\n",
    "print('Please think of a number between ' + str(low_value) +\n",
    "     ' and ' + str(high_value) + '!')\n",
    "\n",
    "while True:\n",
    "    guess = (high_value + low_value)//2\n",
    "    print('\\n Is your secret number ' + str(int(guess)) + '?')\n",
    "    x = input(\"Enter 'h' if your SecretNum is Higher.\" + \n",
    "        \" \\nEnter 'l' if your SecretNum is Lower.\" + \n",
    "        \" \\nEnter 'c' to indicate I guessed correctly.\")\n",
    "    if x == 'h':\n",
    "        low_value = guess\n",
    "    elif x == 'l':\n",
    "        high_value = guess\n",
    "    elif x == 'c':\n",
    "        break\n",
    "    else:\n",
    "        print(\"Sorry, I did not understand your input.\")\n",
    "print('Game over. Your secret number was:', guess)"
   ]
  },
  {
   "cell_type": "markdown",
   "metadata": {},
   "source": [
    "### Newton- Raphson\n",
    "> Newton- Raphson is a technique used to find a general approximation algorithm to find roots of a polynomial in one variable.\n",
    ">\n",
    "$$p(x) = a_nX^n + a_{n-1}X^{n-1} + \\dots + a_1X + a_0$$\n",
    ">\n",
    "> - ie) to find the $\\sqrt{24}$ use $p(x) = x^2 - 24$\n",
    "\n",
    "> Newton showed that if g is an approximation to the root, then:\n",
    ">\n",
    "$$g-\\frac{p(g)}{p'(g)}$$"
   ]
  },
  {
   "cell_type": "code",
   "execution_count": 4,
   "metadata": {},
   "outputs": [
    {
     "name": "stdout",
     "output_type": "stream",
     "text": [
      "numGuesses = 4\n",
      "Square root of 25.0 is about 5.000012953048684\n"
     ]
    }
   ],
   "source": [
    "'''Square root with Newton-Raphson'''\n",
    "\n",
    "epsilon = 0.01\n",
    "y = 25.0\n",
    "guess = y/2\n",
    "numGuesses = 0\n",
    "\n",
    "while abs(guess**2 - y) >= epsilon:\n",
    "    numGuesses += 1\n",
    "    guess = guess - (((guess**2) - y)/(2 * guess))\n",
    "print('numGuesses = ' + str(numGuesses))\n",
    "print('Square root of ' + str(y) + ' is about ' + str(guess))"
   ]
  }
 ],
 "metadata": {
  "kernelspec": {
   "display_name": "Python 3",
   "language": "python",
   "name": "python3"
  },
  "language_info": {
   "codemirror_mode": {
    "name": "ipython",
    "version": 3
   },
   "file_extension": ".py",
   "mimetype": "text/x-python",
   "name": "python",
   "nbconvert_exporter": "python",
   "pygments_lexer": "ipython3",
   "version": "3.6.2"
  }
 },
 "nbformat": 4,
 "nbformat_minor": 2
}
