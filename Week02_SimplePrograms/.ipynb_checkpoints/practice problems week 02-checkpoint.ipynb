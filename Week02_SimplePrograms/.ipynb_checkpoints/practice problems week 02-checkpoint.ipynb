{
 "cells": [
  {
   "cell_type": "code",
   "execution_count": 31,
   "metadata": {},
   "outputs": [
    {
     "data": {
      "text/plain": [
       "12"
      ]
     },
     "execution_count": 31,
     "metadata": {},
     "output_type": "execute_result"
    }
   ],
   "source": [
    "'''\n",
    "Write a function using itterative methods which solves for the GCD\n",
    "'''\n",
    "\n",
    "def iterGCD(a,b):\n",
    "    '''\n",
    "    input a,b integers\n",
    "    where a >= b\n",
    "    output: the GCD\n",
    "    '''\n",
    "    if a < b: #flip 'a' and 'b' such that a >= b\n",
    "        x = a\n",
    "        y = b\n",
    "        a = y\n",
    "        b = x    \n",
    "    \n",
    "    for z in range(b, 0, -1):\n",
    "        if a % z == 0 and b % z == 0:\n",
    "            return z\n",
    "iterGCD(12,12)\n"
   ]
  },
  {
   "cell_type": "code",
   "execution_count": 34,
   "metadata": {},
   "outputs": [
    {
     "data": {
      "text/plain": [
       "5"
      ]
     },
     "execution_count": 34,
     "metadata": {},
     "output_type": "execute_result"
    }
   ],
   "source": [
    "'''\n",
    "Write a function using recurrsion methods which solves for the GCD\n",
    "'''\n",
    "\n",
    "def recGCD(a,b):\n",
    "    '''\n",
    "    input a,b integers\n",
    "    where a >= b\n",
    "    output: the GCD\n",
    "    '''\n",
    "    if (0 == a % b):\n",
    "        return b\n",
    "    return recGCD(b, a%b)\n",
    "\n",
    "recGCD(25,10)"
   ]
  },
  {
   "cell_type": "markdown",
   "metadata": {},
   "source": [
    "We can use the idea of bisection search to determine if a character is in a string, so long as the string is sorted in alphabetical order.\n",
    "\n",
    "First, test the middle character of a string against the character you're looking for (the \"test character\"). If they are the same, we are done - we've found the character we're looking for!\n",
    "\n",
    "If they're not the same, check if the test character is \"smaller\" than the middle character. If so, we need only consider the lower half of the string; otherwise, we only consider the upper half of the string. (Note that you can compare characters using Python's < function.)\n",
    "\n",
    "Implement the function isIn(char, aStr) which implements the above idea recursively to test if char is in aStr. char will be a single character and aStr will be a string that is in alphabetical order. The function should return a boolean value.\n",
    "\n",
    "As you design the function, think very carefully about what the base cases should be."
   ]
  },
  {
   "cell_type": "code",
   "execution_count": 26,
   "metadata": {},
   "outputs": [
    {
     "data": {
      "text/plain": [
       "True"
      ]
     },
     "execution_count": 26,
     "metadata": {},
     "output_type": "execute_result"
    }
   ],
   "source": [
    "def isIn(char, aStr):\n",
    "    '''\n",
    "    char: a single character\n",
    "    aStr: an alphabetized string with length > 1\n",
    "    \n",
    "    returns: True if char is in aStr; False otherwise\n",
    "    '''\n",
    "    if char == aStr[len(aStr)//2]:\n",
    "        return True\n",
    "    if len(aStr) == 1:\n",
    "        return False\n",
    "    if char < aStr[len(aStr)//2]:\n",
    "        return isIn(char, aStr[:len(aStr)//2])\n",
    "    if char > aStr[len(aStr)//2]:\n",
    "        return isIn(char, aStr[len(aStr)//2:])\n",
    "isIn('g', 'g')"
   ]
  },
  {
   "cell_type": "markdown",
   "metadata": {},
   "source": [
    "A regular polygon has n number of sides. Each side has length s.\n",
    "\n",
    "The area of a regular polygon is: $\\frac{ns^2}{4\\tan(\\pi/n)}$\n",
    "The perimeter of a polygon is: length of the boundary of the polygon\n",
    "\n",
    "Write a function called polysum that takes 2 arguments, n and s. This function should sum the area and square of the perimeter of the regular polygon. The function returns the sum, rounded to 4 decimal places."
   ]
  },
  {
   "cell_type": "code",
   "execution_count": 57,
   "metadata": {},
   "outputs": [
    {
     "data": {
      "text/plain": [
       "76881504.1044"
      ]
     },
     "execution_count": 57,
     "metadata": {},
     "output_type": "execute_result"
    }
   ],
   "source": [
    "import math\n",
    "def polysum(n,s):\n",
    "    '''\n",
    "    input:\n",
    "    n: an integer greater than 2\n",
    "    s: the length of each side of the regular polygon, (a positive int or float).\n",
    "\n",
    "    output:\n",
    "    area + perimeter**2 of the regular polygon rounded to 4 decimal places\n",
    "    '''\n",
    "    if type(n) != int:\n",
    "        return \"Please make sure 'n' is an integer greater than 2.\"\n",
    "    if type(s) != int and type(s) != float:\n",
    "        return \"Please make sure 's' is a positive integer or a positive float.\"\n",
    "    if n <= 2 and s <= 0:\n",
    "        return (\"Your math teacher won't be happy...\" +\n",
    "                \" A polygon must have more than two sides, and\" +\n",
    "                \" the length of a polygon cannot be zero or negative!\")\n",
    "    if n <= 2:\n",
    "        return \"A polygon must have more than two sides!\"\n",
    "    if s <= 0:\n",
    "        return \"The length of a polygon cannot be zero or negative!\"\n",
    "\n",
    "    area = ((n*s**2)/(4*math.tan(math.pi/n)))\n",
    "    perimeter = s*n\n",
    "    return round(area + perimeter**2,4)\n",
    "\n",
    "polysum(87,97)\n"
   ]
  },
  {
   "cell_type": "markdown",
   "metadata": {
    "collapsed": true
   },
   "source": [
    "Problem 1 - Paying Debt off in a Year\n",
    "0.0/10.0 points (graded)\n",
    "Write a program to calculate the credit card balance after one year if a person only pays the minimum monthly payment required by the credit card company each month.\n",
    "\n",
    "The following variables contain values as described below:\n",
    "\n",
    "balance - the outstanding balance on the credit card\n",
    "\n",
    "annualInterestRate - annual interest rate as a decimal\n",
    "\n",
    "monthlyPaymentRate - minimum monthly payment rate as a decimal\n",
    "\n",
    "For each month, calculate statements on the monthly payment and remaining balance. At the end of 12 months, print out the remaining balance. Be sure to print out no more than two decimal digits of accuracy - so print\n",
    "\n",
    "Remaining balance: 813.41\n",
    "instead of\n",
    "\n",
    "Remaining balance: 813.4141998135 \n",
    "So your program only prints out one thing: the remaining balance at the end of the year in the format:\n",
    "\n",
    "Remaining balance: 4784.0\n",
    "A summary of the required math is found below:\n",
    "\n",
    "Monthly interest rate= (Annual interest rate) / 12.0\n",
    "Minimum monthly payment = (Minimum monthly payment rate) x (Previous balance)\n",
    "Monthly unpaid balance = (Previous balance) - (Minimum monthly payment)\n",
    "Updated balance each month = (Monthly unpaid balance) + (Monthly interest rate x Monthly unpaid balance)"
   ]
  },
  {
   "cell_type": "code",
   "execution_count": 1,
   "metadata": {},
   "outputs": [
    {
     "name": "stdout",
     "output_type": "stream",
     "text": [
      "Remaining balance: -67.24\n"
     ]
    }
   ],
   "source": [
    "def CreditCardBalance(balance, \n",
    "                      annualInterestRate = 0.18, \n",
    "                      monthlyPaymentRate = 0.02):\n",
    "    \"\"\"\n",
    "    This program is meant to calculate the credit card balance\n",
    "    of an individual, after one year, assuming the person only\n",
    "    pays the minimum monthly payment.\n",
    "    \n",
    "    input:\n",
    "        balance (float/int)\n",
    "        annualInterestRate (float)\n",
    "        monthlyPaymentRate (float)\n",
    "        \n",
    "    output:\n",
    "        'Remaining balance: _______'\n",
    "    \"\"\"\n",
    "    n = 0\n",
    "    while n < 12:\n",
    "        monthly_payment = balance/12 + 10 #monthlyPaymentRate * balance\n",
    "        unpaid_balance = balance - monthly_payment\n",
    "        new_balance = (unpaid_balance + \n",
    "                       (annualInterestRate/12.0) * unpaid_balance)\n",
    "        balance = new_balance\n",
    "        #print(round(balance,2)) will show you balance after each month.\n",
    "        n += 1\n",
    "    return print('Remaining balance:', round(balance,2))\n",
    "CreditCardBalance(42,0.2,0.04)"
   ]
  },
  {
   "cell_type": "markdown",
   "metadata": {},
   "source": [
    "Problem 2 - Paying Debt Off in a Year\n",
    "0.0/15.0 points (graded)\n",
    "Now write a program that calculates the minimum fixed monthly payment needed in order pay off a credit card balance within 12 months. By a fixed monthly payment, we mean a single number which does not change each month, but instead is a constant amount that will be paid each month.\n",
    "\n",
    "In this problem, we will not be dealing with a minimum monthly payment rate.\n",
    "\n",
    "The following variables contain values as described below:\n",
    "\n",
    "balance - the outstanding balance on the credit card\n",
    "\n",
    "annualInterestRate - annual interest rate as a decimal\n",
    "\n",
    "The program should print out one line: the lowest monthly payment that will pay off all debt in under 1 year, for example:\n",
    "\n",
    "Lowest Payment: 180 \n",
    "Assume that the interest is compounded monthly according to the balance at the end of the month (after the payment for that month is made). The monthly payment must be a multiple of $10 and is the same for all months. Notice that it is possible for the balance to become negative using this payment scheme, which is okay. A summary of the required math is found below:\n",
    "\n",
    "Monthly interest rate = (Annual interest rate) / 12.0\n",
    "Monthly unpaid balance = (Previous balance) - (Minimum fixed monthly payment)\n",
    "Updated balance each month = (Monthly unpaid balance) + (Monthly interest rate x Monthly unpaid balance)"
   ]
  },
  {
   "cell_type": "code",
   "execution_count": 12,
   "metadata": {},
   "outputs": [
    {
     "data": {
      "text/plain": [
       "100"
      ]
     },
     "execution_count": 12,
     "metadata": {},
     "output_type": "execute_result"
    }
   ],
   "source": [
    "'This finds the lowest monthly payment rounded to the nearest 10'\n",
    "\n",
    "import math\n",
    "def PayOffDebt(balance, annualInterestRate = 0.18):\n",
    "    '''\n",
    "    This function calculates the minimum fixed monthly \n",
    "    payment needed in order pay off a credit card balance\n",
    "    within 12 months; the intrest is assumed to be \n",
    "    compounded monthly.\n",
    "    \n",
    "    input: \n",
    "        balance(int/float)\n",
    "        annualInterestRate(float)\n",
    "    output:\n",
    "        minimum fixed monthly payment\n",
    "    '''\n",
    "    n = 0\n",
    "    m = 0\n",
    "    original_balance = balance\n",
    "    while True:\n",
    "        while n < 12:\n",
    "            monthly_payment = math.ceil((original_balance/12 + m)/10) * 10\n",
    "            unpaid_balance = balance - monthly_payment\n",
    "            new_balance = (unpaid_balance + (annualInterestRate/12.0) * unpaid_balance)\n",
    "            balance = new_balance\n",
    "            n += 1\n",
    "            if balance <= 0:\n",
    "                return monthly_payment\n",
    "        m += 10\n",
    "        n = 0\n",
    "        balance = original_balance\n",
    "PayOffDebt(1000, 0.2)"
   ]
  },
  {
   "cell_type": "code",
   "execution_count": 1,
   "metadata": {},
   "outputs": [
    {
     "name": "stdout",
     "output_type": "stream",
     "text": [
      "440\n"
     ]
    }
   ],
   "source": [
    "import math\n",
    "balance = 4773\n",
    "annualInterestRate = 0.2\n",
    "\n",
    "n = 0\n",
    "m = 0\n",
    "s = 0\n",
    "original_balance = balance\n",
    "while s < 1:\n",
    "    while n < 12:\n",
    "        monthly_payment = math.ceil((original_balance/12 + m)/10) * 10\n",
    "        unpaid_balance = balance - monthly_payment\n",
    "        new_balance = (unpaid_balance + (annualInterestRate/12.0) * unpaid_balance)\n",
    "        balance = new_balance\n",
    "        n += 1\n",
    "        if balance <= 0:\n",
    "            print(monthly_payment)\n",
    "            s += 1\n",
    "            break\n",
    "    m += 10\n",
    "    n = 0\n",
    "    balance = original_balance"
   ]
  },
  {
   "cell_type": "code",
   "execution_count": 8,
   "metadata": {},
   "outputs": [
    {
     "name": "stdout",
     "output_type": "stream",
     "text": [
      "number_guesses = 14\n",
      "505.82\n"
     ]
    }
   ],
   "source": [
    "'''Use bisective search to solve the previous problem'''\n",
    "balance = 5600\n",
    "annualInterestRate = 0.18\n",
    "\n",
    "lower_bound = balance/12\n",
    "upper_bound = balance*((1+(annualInterestRate/12))**12)/12\n",
    "monthly_payment_guess = (lower_bound + upper_bound)/2\n",
    "epsilon = 0.08\n",
    "number_guesses = 0\n",
    "original_balance = balance\n",
    "\n",
    "while abs(balance) > epsilon:\n",
    "    n = 0\n",
    "    balance = original_balance\n",
    "    while n < 12:\n",
    "        monthly_payment = monthly_payment_guess\n",
    "        unpaid_balance = balance - monthly_payment\n",
    "        new_balance = (unpaid_balance + (annualInterestRate/12.0) * unpaid_balance)\n",
    "        balance = new_balance\n",
    "        n += 1\n",
    "    if balance < 0:\n",
    "        upper_bound = monthly_payment\n",
    "    else:\n",
    "        lower_bound = monthly_payment\n",
    "    monthly_payment_guess = round((lower_bound + upper_bound)/2,2)\n",
    " #   number_guesses += 1\n",
    "#print('number_guesses =', number_guesses)\n",
    "print(monthly_payment)\n",
    "        \n",
    "    "
   ]
  },
  {
   "cell_type": "code",
   "execution_count": 2,
   "metadata": {},
   "outputs": [
    {
     "name": "stdout",
     "output_type": "stream",
     "text": [
      "100.0\n",
      "102.01843556815017\n",
      "101.01\n"
     ]
    }
   ],
   "source": [
    "balance = 1200\n",
    "annualInterestRate = 0.02\n",
    "lower_bound = balance/12\n",
    "upper_bound = balance*((1+(annualInterestRate/12))**12)/12\n",
    "monthly_payment_guess = round((lower_bound + upper_bound)/2,2)\n",
    "print(lower_bound)\n",
    "print(upper_bound)\n",
    "print(monthly_payment_guess)"
   ]
  },
  {
   "cell_type": "code",
   "execution_count": null,
   "metadata": {
    "collapsed": true
   },
   "outputs": [],
   "source": []
  }
 ],
 "metadata": {
  "kernelspec": {
   "display_name": "Python 3",
   "language": "python",
   "name": "python3"
  },
  "language_info": {
   "codemirror_mode": {
    "name": "ipython",
    "version": 3
   },
   "file_extension": ".py",
   "mimetype": "text/x-python",
   "name": "python",
   "nbconvert_exporter": "python",
   "pygments_lexer": "ipython3",
   "version": "3.6.2"
  }
 },
 "nbformat": 4,
 "nbformat_minor": 2
}
