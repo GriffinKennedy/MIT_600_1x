{
 "cells": [
  {
   "cell_type": "markdown",
   "metadata": {},
   "source": [
    "## <center>MIT 6.00.1x\n",
    "### <center>Lesson 4: Functions\n",
    "#### <center>**Author: Griffin Kennedy**"
   ]
  },
  {
   "cell_type": "markdown",
   "metadata": {},
   "source": [
    "### Learning Objectives\n",
    "> - Decomposition and Abstraction\n",
    "- Modules and Files\n",
    "- Functions and Scope\n",
    "- Iteration and Recursion methods\n",
    "- More on Recursion"
   ]
  },
  {
   "cell_type": "markdown",
   "metadata": {},
   "source": [
    "### Decomposition and Abstraction\n",
    "> **Decomposition**\n",
    "\n",
    "> Decomposition is the ability to break a problem into different, self-contained, pieces (called modules) that are easier to conceive, understand, and maintain.\n",
    "\n",
    "\n",
    "> **Abstraction**\n",
    "\n",
    "> Through the process of abstraction, a programmer hides all but the relevant data about an object in order to reduce complexity and increase efficiency. Thing of a piece of code as a **black box** where you cannot, do not need, and do not want, to see the details. You can achieve abstraction with function specifications or docstrings."
   ]
  },
  {
   "cell_type": "markdown",
   "metadata": {},
   "source": [
    "### Modules and Files\n",
    "> a module is simply a .py file containing a collection of Python definitions, functions, and statements. You can call any .py file by using the **import** key word.\n",
    "\n",
    "> **Example:**\n",
    "\n",
    ">> the file **circle.py** contains \n",
    "\n",
    ">>  - pi = 3.14159 \n",
    " - def area(radius):\n",
    "     - return $pi * (radius^2)$\n",
    " - def circumference(radius):\n",
    "     - return $2 * pi * radius$\n",
    "     \n",
    ">> Then we can import this module:\n",
    "\n",
    ">> - import circle\n",
    "- pi = 3\n",
    "- print(pi)\n",
    "- print(circle.pi)\n",
    "- print(circle.area(3))\n",
    "\n",
    ">> output:\n",
    "\n",
    ">> - 3\n",
    "- 3.14159\n",
    "- 28.27431"
   ]
  },
  {
   "cell_type": "markdown",
   "metadata": {},
   "source": [
    "### Functions and Scope\n",
    "> A variable’s scope is the part of a program in which the variable may be accessed. A variable is visible only to statements in the variable’s scope. A local variable’s scope is the function in which the variable is created. To further understand scope visit **pythontutor.com**.\n",
    "\n",
    "> Functions are a reusable piece of code. Functions are not run in a program until thaey are 'called' or 'invoked'.\n",
    "\n",
    "> **Function Charactoristics:**\n",
    "> - function name\n",
    "- parameter(s)\n",
    "- a doctring\n",
    "    - docstring: a multiline comment explaining the purpose and expected behavihor of the code\n",
    "- function body\n",
    "- function return\n",
    "\n",
    "> **return vs. print**\n",
    "\n",
    "> print statements are handy to have us pass information back to the user to let them know the status of a computation. Where as return statements will be used to get a value back to somebody who asked for it."
   ]
  },
  {
   "cell_type": "code",
   "execution_count": 24,
   "metadata": {},
   "outputs": [
    {
     "name": "stdout",
     "output_type": "stream",
     "text": [
      "hi\n"
     ]
    },
    {
     "data": {
      "text/plain": [
       "True"
      ]
     },
     "execution_count": 24,
     "metadata": {},
     "output_type": "execute_result"
    }
   ],
   "source": [
    "'''How to write a function'''\n",
    "\n",
    "def is_even( i ): #is_even is the name, 'i' is the parameter\n",
    "    '''\n",
    "    This is the docstring,\n",
    "    Input: i, a positive integer \n",
    "    Returns True if i is even, otherwise False\n",
    "    '''\n",
    "    print(\"hi\") #code body\n",
    "    return i%2 == 0 #return statement\n",
    "is_even(2) #calling the function"
   ]
  },
  {
   "cell_type": "markdown",
   "metadata": {
    "collapsed": true
   },
   "source": [
    "> ### keyword arguments and defualt values\n",
    "\n",
    "> In a function call you can have default arguments built into your function."
   ]
  },
  {
   "cell_type": "code",
   "execution_count": 25,
   "metadata": {},
   "outputs": [
    {
     "data": {
      "text/plain": [
       "11"
      ]
     },
     "execution_count": 25,
     "metadata": {},
     "output_type": "execute_result"
    }
   ],
   "source": [
    "def foo(x, y = 5):\n",
    "   def bar(x):\n",
    "      return x + 1\n",
    "   return bar(y * 2)\n",
    "          \n",
    "foo(3) #notice how y = 5 is implied"
   ]
  },
  {
   "cell_type": "code",
   "execution_count": 26,
   "metadata": {},
   "outputs": [
    {
     "data": {
      "text/plain": [
       "1"
      ]
     },
     "execution_count": 26,
     "metadata": {},
     "output_type": "execute_result"
    }
   ],
   "source": [
    "def foo(x, y = 5):\n",
    "   def bar(x):\n",
    "      return x + 1\n",
    "   return bar(y * 2)\n",
    "          \n",
    "foo(3,0) #here we can make y = 0 if we so choose."
   ]
  },
  {
   "cell_type": "markdown",
   "metadata": {},
   "source": [
    "### Iteration vs. Recursion\n",
    "\n",
    "> An **iterative function** is one that **loops** to repeat some part of the code, and a **recursive function** is one that **calls itself again** to repeat the code.\n",
    "\n",
    "> Below are two functions which produce the same output. One is through an iteration method and the odther through recursion. Take the time to copy and paste the functions into **Python Tutor** and really understad the difference of the methods.\n",
    "\n",
    "> **Note:** recursion may be more efficient from programmer POV but not from the computer POV when optimizing a program check the run time of each method.  "
   ]
  },
  {
   "cell_type": "code",
   "execution_count": 27,
   "metadata": {},
   "outputs": [
    {
     "data": {
      "text/plain": [
       "27"
      ]
     },
     "execution_count": 27,
     "metadata": {},
     "output_type": "execute_result"
    }
   ],
   "source": [
    "def iterPower(base, exp):\n",
    "    '''\n",
    "    base: int or float.\n",
    "    exp: int >= 0\n",
    " \n",
    "    returns: int or float, base^exp\n",
    "    '''\n",
    "    if exp == 0:\n",
    "        return 1.0\n",
    "    else:\n",
    "        n = 1\n",
    "        x = base\n",
    "        while (n < exp):\n",
    "            x = x * base\n",
    "            n += 1\n",
    "        return x\n",
    "iterPower(3,3)"
   ]
  },
  {
   "cell_type": "code",
   "execution_count": 28,
   "metadata": {},
   "outputs": [
    {
     "data": {
      "text/plain": [
       "27"
      ]
     },
     "execution_count": 28,
     "metadata": {},
     "output_type": "execute_result"
    }
   ],
   "source": [
    "def recurPower(base, exp):\n",
    "    '''\n",
    "    base: int or float.\n",
    "    exp: int >= 0\n",
    " \n",
    "    returns: int or float, base^exp\n",
    "    '''\n",
    "    if exp == 0:\n",
    "        return 1\n",
    "    else:\n",
    "        return base * recurPower(base, exp -1)\n",
    "recurPower(3,3)"
   ]
  },
  {
   "cell_type": "markdown",
   "metadata": {},
   "source": [
    "### Recursion\n",
    "\n",
    "> In more detail, recursion is the idea of designing the solutions to your problems by breaking your problem up into simpler, perferably already solved, problems. Think back to learning multiplication, we were taught multiplication is recursive addition. This fact allowed us to take a problem we didn't know how to solve, and made the problem solvable.\n",
    "\n",
    "> Recursion is the mathematical induction in action!\n",
    "\n",
    "> #### Recursion with multiple bases\n",
    "In a Fibonacci sequence we have two base cases. Where $f(0) = 1$ and $f(1) = 1$."
   ]
  },
  {
   "cell_type": "code",
   "execution_count": 29,
   "metadata": {},
   "outputs": [
    {
     "data": {
      "text/plain": [
       "34"
      ]
     },
     "execution_count": 29,
     "metadata": {},
     "output_type": "execute_result"
    }
   ],
   "source": [
    "def fib(x):\n",
    "    '''\n",
    "    assumes x an int >= 0\n",
    "    returns Fibonacci of x\n",
    "    '''\n",
    "    if x == 0 or x == 1:\n",
    "        return 1\n",
    "    else:\n",
    "        return fib(x-1) + fib(x-2)\n",
    "fib(8)"
   ]
  },
  {
   "cell_type": "markdown",
   "metadata": {},
   "source": [
    "### Divide and Conquer\n",
    "\n",
    "> In computer science, divide and conquer is an algorithm design paradigm based on multi-branched recursion. A divide and conquer algorithm works by recursively breaking down a problem into two or more sub-problems of the same or related type, until these become simple enough to be solved directly. The solutions to the sub-problems are then combined to give a solution to the original problem.\n",
    "\n",
    "> #### Recursion on non-numerics\n",
    "\n",
    "> Let's write a function that checks to see if a given string is a palindrome. \n",
    "\n",
    "> How to solve this recursively? \n",
    "- Strip our string of puntation, spacing, and capitalization. \n",
    "- Observe out base case(s). \n",
    "    - If the len(string) is 0 or 1 it is a palindrome. \n",
    "- Recursive case \n",
    "    - If the first characeter matches the last character, then it is a palindrome given the middle is a palindrome. "
   ]
  },
  {
   "cell_type": "code",
   "execution_count": 33,
   "metadata": {},
   "outputs": [
    {
     "data": {
      "text/plain": [
       "True"
      ]
     },
     "execution_count": 33,
     "metadata": {},
     "output_type": "execute_result"
    }
   ],
   "source": [
    "def isPalindrome(s):\n",
    "    '''\n",
    "    input: Sting\n",
    "    output: True if palindromem, else false.\n",
    "    '''\n",
    "    def toChars(s):\n",
    "        '''\n",
    "        input: String\n",
    "        output: lowercase string without \n",
    "                spaces or puncuation\n",
    "        '''\n",
    "        s = s.lower()\n",
    "        ans = '' \n",
    "        for c in s:\n",
    "            if c in 'abcdefghijklmnopqrstuvwxyz':\n",
    "                ans = ans + c\n",
    "        return ans\n",
    "    def isPal(s):\n",
    "        '''\n",
    "        recursion function to checks if a palindrome\n",
    "        '''\n",
    "        if len(s) <= 1:\n",
    "            return True\n",
    "        else:\n",
    "            return s[0] == s[-1] and isPal(s[1:-1])\n",
    "    return isPal(toChars(s))\n",
    "\n",
    "isPalindrome('Able was I, ere I saw Elba')"
   ]
  },
  {
   "cell_type": "code",
   "execution_count": null,
   "metadata": {
    "collapsed": true
   },
   "outputs": [],
   "source": []
  }
 ],
 "metadata": {
  "kernelspec": {
   "display_name": "Python 3",
   "language": "python",
   "name": "python3"
  },
  "language_info": {
   "codemirror_mode": {
    "name": "ipython",
    "version": 3
   },
   "file_extension": ".py",
   "mimetype": "text/x-python",
   "name": "python",
   "nbconvert_exporter": "python",
   "pygments_lexer": "ipython3",
   "version": "3.6.2"
  }
 },
 "nbformat": 4,
 "nbformat_minor": 2
}
